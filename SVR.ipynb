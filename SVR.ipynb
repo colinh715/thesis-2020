{
 "cells": [
  {
   "cell_type": "code",
   "execution_count": 1,
   "metadata": {},
   "outputs": [],
   "source": [
    "from CEG import CEG_analysis\n",
    "from utility_funcs import get_folds, scale_data, get_train_test, get_RMSE\n",
    "\n",
    "import matplotlib.pyplot as plt\n",
    "import numpy as np\n",
    "import pandas as pd\n",
    "import pickle\n",
    "import random\n",
    "\n",
    "from sklearn.svm import SVR\n",
    "from sklearn.model_selection import train_test_split\n",
    "from sklearn.preprocessing import StandardScaler\n",
    "from sklearn.metrics import mean_squared_error\n",
    "\n",
    "%matplotlib inline"
   ]
  },
  {
   "cell_type": "markdown",
   "metadata": {},
   "source": [
    "## Load that data!"
   ]
  },
  {
   "cell_type": "code",
   "execution_count": 27,
   "metadata": {},
   "outputs": [],
   "source": [
    "# patient suffixes for file names\n",
    "mayo_suffs = ['001','002','003','004','005','006','007','008']\n",
    "sans_suffs = ['01','02','03','04','05','06','07','08','09','10']\n",
    "data_bypat = {} # holder for data seperated by patient\n",
    "\n",
    "# loading the data from the pickle files\n",
    "for s, suff in enumerate(sans_suffs):\n",
    "    filename = 'feature_data/sansum-%s.p' % suff\n",
    "    data_bypat['s%s' % (s+1)] = pickle.load(open(filename,'rb'))\n",
    "    data_bypat['s%s' % (s+1)] = data_bypat['s%s' % (s+1)].fillna(data_bypat['s%s' % (s+1)].mean())\n",
    "    data_bypat['s%s' % (s+1)] = data_bypat['s%s' % (s+1)].loc[:,['BG0', 'BG_PH', 'BGday_var', 'dBG30', 'dBG60','eda0','hr0','step0','t0','temp0']]\n",
    "    \n",
    "    \n",
    "for m, suff in enumerate(mayo_suffs):\n",
    "    filename = 'feature_data/mayo-%s.p' % suff\n",
    "    data_bypat['m%s' % (m+1)] = pickle.load(open(filename,'rb'))\n",
    "    data_bypat['m%s' % (m+1)] = data_bypat['m%s' % (m+1)].fillna(data_bypat['m%s' % (m+1)].mean())\n",
    "    data_bypat['m%s' % (m+1)] = data_bypat['m%s' % (m+1)].loc[:,['BG0', 'BG_PH', 'BGday_var', 'dBG30', 'dBG60','eda0','hr0','step0','t0','temp0']]"
   ]
  },
  {
   "cell_type": "code",
   "execution_count": 28,
   "metadata": {},
   "outputs": [
    {
     "data": {
      "text/plain": [
       "Index(['BG0', 'BG_PH', 'BGday_var', 'dBG30', 'dBG60', 'eda0', 'hr0', 'step0',\n",
       "       't0', 'temp0'],\n",
       "      dtype='object')"
      ]
     },
     "execution_count": 28,
     "metadata": {},
     "output_type": "execute_result"
    }
   ],
   "source": [
    "data_bypat['m4'].columns # ensure data was properly imported"
   ]
  },
  {
   "cell_type": "code",
   "execution_count": null,
   "metadata": {},
   "outputs": [],
   "source": []
  },
  {
   "cell_type": "markdown",
   "metadata": {},
   "source": [
    "## Model build and optimization\n"
   ]
  },
  {
   "cell_type": "code",
   "execution_count": 29,
   "metadata": {},
   "outputs": [],
   "source": [
    "kerns = ['linear', 'poly', 'rbf'] # kernal types to try\n",
    "poly_degs = [3]# , 5, 10] # polynomial degrees\n",
    "Es = [.01, .1, .25, .5, 1] # epsilon values\n",
    "folds = get_folds(data_bypat) # get folds\n",
    "cv_means = np.zeros([len(kerns)-1+len(poly_degs), len(Es)]) # holder for cv scores\n",
    "cv_stds = np.zeros([len(kerns)-1+len(poly_degs), len(Es)]) # holder for stds of cv scores"
   ]
  },
  {
   "cell_type": "code",
   "execution_count": 30,
   "metadata": {},
   "outputs": [
    {
     "name": "stdout",
     "output_type": "stream",
     "text": [
      "linear\n",
      "0.01, split modelled fit\n",
      "[[691.62175886   0.           0.           0.           0.        ]\n",
      " [  0.           0.           0.           0.           0.        ]\n",
      " [  0.           0.           0.           0.           0.        ]]\n",
      "0.1, split modelled fit\n",
      "[[691.62175886 691.66125412   0.           0.           0.        ]\n",
      " [  0.           0.           0.           0.           0.        ]\n",
      " [  0.           0.           0.           0.           0.        ]]\n",
      "0.25, split modelled fit\n",
      "[[691.62175886 691.66125412 691.61734993   0.           0.        ]\n",
      " [  0.           0.           0.           0.           0.        ]\n",
      " [  0.           0.           0.           0.           0.        ]]\n",
      "0.5, split modelled fit\n",
      "[[691.62175886 691.66125412 691.61734993 691.76774577   0.        ]\n",
      " [  0.           0.           0.           0.           0.        ]\n",
      " [  0.           0.           0.           0.           0.        ]]\n",
      "1, split modelled fit\n",
      "[[691.62175886 691.66125412 691.61734993 691.76774577 691.4646928 ]\n",
      " [  0.           0.           0.           0.           0.        ]\n",
      " [  0.           0.           0.           0.           0.        ]]\n",
      "poly\n",
      "poly 3\n",
      "0.01, [[ 691.62175886  691.66125412  691.61734993  691.76774577  691.4646928 ]\n",
      " [2425.12189765    0.            0.            0.            0.        ]\n",
      " [   0.            0.            0.            0.            0.        ]]\n",
      "0.1, [[ 691.62175886  691.66125412  691.61734993  691.76774577  691.4646928 ]\n",
      " [2425.12189765 2427.27264308    0.            0.            0.        ]\n",
      " [   0.            0.            0.            0.            0.        ]]\n",
      "0.25, [[ 691.62175886  691.66125412  691.61734993  691.76774577  691.4646928 ]\n",
      " [2425.12189765 2427.27264308 2431.18988442    0.            0.        ]\n",
      " [   0.            0.            0.            0.            0.        ]]\n",
      "0.5, [[ 691.62175886  691.66125412  691.61734993  691.76774577  691.4646928 ]\n",
      " [2425.12189765 2427.27264308 2431.18988442 2430.30215925    0.        ]\n",
      " [   0.            0.            0.            0.            0.        ]]\n",
      "1, [[ 691.62175886  691.66125412  691.61734993  691.76774577  691.4646928 ]\n",
      " [2425.12189765 2427.27264308 2431.18988442 2430.30215925 2432.87161947]\n",
      " [   0.            0.            0.            0.            0.        ]]\n",
      "rbf\n",
      "0.01, split modelled fit\n",
      "[[ 691.62175886  691.66125412  691.61734993  691.76774577  691.4646928 ]\n",
      " [2425.12189765 2427.27264308 2431.18988442 2430.30215925 2432.87161947]\n",
      " [ 893.45404981    0.            0.            0.            0.        ]]\n",
      "0.1, split modelled fit\n",
      "[[ 691.62175886  691.66125412  691.61734993  691.76774577  691.4646928 ]\n",
      " [2425.12189765 2427.27264308 2431.18988442 2430.30215925 2432.87161947]\n",
      " [ 893.45404981  893.49536476    0.            0.            0.        ]]\n",
      "0.25, split modelled fit\n",
      "[[ 691.62175886  691.66125412  691.61734993  691.76774577  691.4646928 ]\n",
      " [2425.12189765 2427.27264308 2431.18988442 2430.30215925 2432.87161947]\n",
      " [ 893.45404981  893.49536476  893.53451423    0.            0.        ]]\n",
      "0.5, split modelled fit\n",
      "[[ 691.62175886  691.66125412  691.61734993  691.76774577  691.4646928 ]\n",
      " [2425.12189765 2427.27264308 2431.18988442 2430.30215925 2432.87161947]\n",
      " [ 893.45404981  893.49536476  893.53451423  893.15881132    0.        ]]\n",
      "1, split modelled fit\n",
      "[[ 691.62175886  691.66125412  691.61734993  691.76774577  691.4646928 ]\n",
      " [2425.12189765 2427.27264308 2431.18988442 2430.30215925 2432.87161947]\n",
      " [ 893.45404981  893.49536476  893.53451423  893.15881132  892.33705506]]\n"
     ]
    }
   ],
   "source": [
    "# due to very long execution time, only one validation set can be used at this time\n",
    "m = 0 # keep track of index corresponding to kernel/poly degree combo\n",
    "for kern in kerns:\n",
    "    print(kern)\n",
    "    if kern == 'poly':\n",
    "        for deg in poly_degs:\n",
    "            print(kern, deg)\n",
    "            for e,epsilon in enumerate(Es):\n",
    "                print(epsilon, end=', ')\n",
    "\n",
    "                # train test split / data process\n",
    "                test_y, test_x, train_y, train_x, scaler = get_train_test(data_bypat,folds,0)\n",
    "\n",
    "                # train, fit, evaluate the model\n",
    "                svr_model = SVR(kernel=kern, degree=deg, epsilon=epsilon,cache_size=1000)\n",
    "                svr_model.fit(train_x,train_y)\n",
    "                #cvs_cur.append(svr_model.score(test_x,test_y))\n",
    "                \n",
    "                # update cv means and stds\n",
    "                cv_means[m,e] = mean_squared_error(test_y, svr_model.predict(test_x))\n",
    "                print(cv_means)\n",
    "            m = m+1\n",
    "    else:\n",
    "        for e,epsilon in enumerate(Es):\n",
    "            print(epsilon, end=', ')\n",
    "            # train test split / data process\n",
    "            test_y, test_x, train_y, train_x, scaler = get_train_test(data_bypat,folds,0)\n",
    "            print('split', end=' ')\n",
    "            # train, fit, evaluate the model\n",
    "            svr_model = SVR(kernel=kern, epsilon=epsilon, cache_size=1000)\n",
    "            print('modelled', end=' ')\n",
    "            svr_model.fit(train_x,train_y)\n",
    "            print('fit')\n",
    "            # update cv means and stds\n",
    "            cv_means[m,e] = mean_squared_error(test_y, svr_model.predict(test_x))\n",
    "            print(cv_means)\n",
    "            #cv_stds[m,e] = np.std(cvs_cur)\n",
    "        m = m+1\n",
    "                \n"
   ]
  },
  {
   "cell_type": "code",
   "execution_count": null,
   "metadata": {},
   "outputs": [],
   "source": [
    "train_x.shape\n"
   ]
  },
  {
   "cell_type": "code",
   "execution_count": 31,
   "metadata": {},
   "outputs": [
    {
     "data": {
      "text/plain": [
       "array([[ 691.62175886,  691.66125412,  691.61734993,  691.76774577,\n",
       "         691.4646928 ],\n",
       "       [2425.12189765, 2427.27264308, 2431.18988442, 2430.30215925,\n",
       "        2432.87161947],\n",
       "       [ 893.45404981,  893.49536476,  893.53451423,  893.15881132,\n",
       "         892.33705506]])"
      ]
     },
     "execution_count": 31,
     "metadata": {},
     "output_type": "execute_result"
    }
   ],
   "source": [
    "cv_means"
   ]
  },
  {
   "cell_type": "code",
   "execution_count": null,
   "metadata": {},
   "outputs": [],
   "source": [
    "1==2"
   ]
  },
  {
   "cell_type": "code",
   "execution_count": 32,
   "metadata": {},
   "outputs": [
    {
     "data": {
      "text/plain": [
       "array([[26.29870261, 26.29945349, 26.29861878, 26.30147801, 26.29571624],\n",
       "       [49.24552668, 49.2673588 , 49.30709771, 49.29809488, 49.32414844],\n",
       "       [29.89070173, 29.89139282, 29.89204768, 29.88576269, 29.87201123]])"
      ]
     },
     "execution_count": 32,
     "metadata": {},
     "output_type": "execute_result"
    }
   ],
   "source": [
    "np.sqrt(cv_means)"
   ]
  },
  {
   "cell_type": "code",
   "execution_count": 23,
   "metadata": {},
   "outputs": [
    {
     "data": {
      "image/png": "[encoded data removed]",
      "text/plain": [
       "<Figure size 864x432 with 3 Axes>"
      ]
     },
     "metadata": {
      "needs_background": "light"
     },
     "output_type": "display_data"
    }
   ],
   "source": [
    "plt.figure(figsize=[12,6])\n",
    "plt.suptitle('SVR RMSE vs Epsilon')\n",
    "plt.subplot(1,3,1)\n",
    "plt.plot(Es,np.sqrt(cv_means[0,:]))\n",
    "plt.title('Linear Kernel')\n",
    "plt.ylabel('RMSE')\n",
    "plt.xlabel('Espilon Value')\n",
    "plt.subplot(1,3,2)\n",
    "plt.plot(Es,np.sqrt(cv_means[1,:]))\n",
    "plt.title('Cubic Kernel')\n",
    "plt.xlabel('Espilon Value')\n",
    "plt.subplot(1,3,3)\n",
    "plt.plot(Es,np.sqrt(cv_means[2,:]))\n",
    "plt.title('RBF Kernel')\n",
    "plt.xlabel('Espilon Value')\n",
    "plt.tight_layout(rect=[0, 0.03, 1, 0.95])"
   ]
  },
  {
   "cell_type": "code",
   "execution_count": null,
   "metadata": {},
   "outputs": [],
   "source": []
  }
 ],
 "metadata": {
  "kernelspec": {
   "display_name": "Python 3",
   "language": "python",
   "name": "python3"
  },
  "language_info": {
   "codemirror_mode": {
    "name": "ipython",
    "version": 3
   },
   "file_extension": ".py",
   "mimetype": "text/x-python",
   "name": "python",
   "nbconvert_exporter": "python",
   "pygments_lexer": "ipython3",
   "version": "3.7.3"
  }
 },
 "nbformat": 4,
 "nbformat_minor": 2
}
