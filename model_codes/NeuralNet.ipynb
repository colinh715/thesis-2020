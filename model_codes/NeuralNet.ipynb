{
  "nbformat": 4,
  "nbformat_minor": 0,
  "metadata": {
    "colab": {
      "name": "NeuralNet.ipynb",
      "provenance": []
    },
    "kernelspec": {
      "name": "python3",
      "display_name": "Python 3"
    }
  },
  "cells": [
    {
      "cell_type": "code",
      "metadata": {
        "id": "83yqAwGSGDSf",
        "colab_type": "code",
        "colab": {}
      },
      "source": [
        "import io\n",
        "import numpy as np\n",
        "import pandas as pd\n",
        "import pickle\n",
        "import random\n",
        "import matplotlib.pyplot as plt\n",
        "% matplotlib inline\n",
        "\n",
        "import tensorflow as tf\n",
        "#from tensorflow import keras\n",
        "import keras\n",
        "from keras import layers\n",
        "from keras.models import Sequential\n",
        "from keras.optimizers import SGD\n",
        "from keras.optimizers import Adagrad\n",
        "\n",
        "from sklearn.preprocessing import StandardScaler\n",
        "from sklearn.decomposition import PCA\n",
        "\n",
        "import matplotlib.image as mpimg"
      ],
      "execution_count": 0,
      "outputs": []
    },
    {
      "cell_type": "markdown",
      "metadata": {
        "id": "bzLOv5f5RAtA",
        "colab_type": "text"
      },
      "source": [
        "Srivastava, Nitish, et al. ”Dropout: a simple way to prevent neural networks from\n",
        "overfitting”, JMLR 2014"
      ]
    },
    {
      "cell_type": "markdown",
      "metadata": {
        "id": "17n4qlRTmLU_",
        "colab_type": "text"
      },
      "source": [
        "help from : https://www.tensorflow.org/tutorials/keras/regression"
      ]
    },
    {
      "cell_type": "code",
      "metadata": {
        "id": "RVd9d-KkGG6G",
        "colab_type": "code",
        "outputId": "9b8cb88c-90c5-4b26-a67b-cfaf7d596f43",
        "colab": {
          "resources": {
            "http://localhost:8080/nbextensions/google.colab/files.js": {
              "data": "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",
              "ok": true,
              "headers": [
                [
                  "content-type",
                  "application/javascript"
                ]
              ],
              "status": 200,
              "status_text": ""
            }
          },
          "base_uri": "https://localhost:8080/",
          "height": 652
        }
      },
      "source": [
        "from google.colab import files\n",
        "uploaded = files.upload()"
      ],
      "execution_count": 0,
      "outputs": [
        {
          "output_type": "display_data",
          "data": {
            "text/html": [
              "\n",
              "     <input type=\"file\" id=\"files-fe46238e-4f40-4d67-bdf6-ea3472648eef\" name=\"files[]\" multiple disabled />\n",
              "     <output id=\"result-fe46238e-4f40-4d67-bdf6-ea3472648eef\">\n",
              "      Upload widget is only available when the cell has been executed in the\n",
              "      current browser session. Please rerun this cell to enable.\n",
              "      </output>\n",
              "      <script src=\"/nbextensions/google.colab/files.js\"></script> "
            ],
            "text/plain": [
              "<IPython.core.display.HTML object>"
            ]
          },
          "metadata": {
            "tags": []
          }
        },
        {
          "output_type": "stream",
          "text": [
            "Saving mayo-001.p to mayo-001 (1).p\n",
            "Saving mayo-002.p to mayo-002 (1).p\n",
            "Saving mayo-003.p to mayo-003 (1).p\n",
            "Saving mayo-004.p to mayo-004 (1).p\n",
            "Saving mayo-005.p to mayo-005 (1).p\n",
            "Saving mayo-006.p to mayo-006 (1).p\n",
            "Saving mayo-007.p to mayo-007 (1).p\n",
            "Saving mayo-008.p to mayo-008 (1).p\n",
            "Saving sansum-01.p to sansum-01 (1).p\n",
            "Saving sansum-02.p to sansum-02 (1).p\n",
            "Saving sansum-03.p to sansum-03 (1).p\n",
            "Saving sansum-04.p to sansum-04 (1).p\n",
            "Saving sansum-05.p to sansum-05 (1).p\n",
            "Saving sansum-06.p to sansum-06.p\n",
            "Saving sansum-07.p to sansum-07.p\n",
            "Saving sansum-08.p to sansum-08.p\n",
            "Saving sansum-09.p to sansum-09.p\n",
            "Saving sansum-10.p to sansum-10.p\n"
          ],
          "name": "stdout"
        }
      ]
    },
    {
      "cell_type": "code",
      "metadata": {
        "id": "bJ0jcENHG1lV",
        "colab_type": "code",
        "colab": {}
      },
      "source": [
        "# patient suffixes for file names\n",
        "mayo_suffs = ['001','002','003','004','005','006','007','008']\n",
        "sans_suffs = ['01','02','03','04','05','06','07','08','09','10']\n",
        "data_bypat = {} # holder for data seperated by patient\n",
        "\n",
        "# loading the data from the pickle files\n",
        "for s, suff in enumerate(sans_suffs):\n",
        "    filename = 'sansum-%s.p' % suff\n",
        "    data_bypat['s%s' % (s+1)] = pickle.load(io.BytesIO(uploaded[filename]))\n",
        "    data_bypat['s%s' % (s+1)] = data_bypat['s%s' % (s+1)].fillna(data_bypat['s%s' % (s+1)].mean())\n",
        "    data_bypat['s%s' % (s+1)] = data_bypat['s%s' % (s+1)].loc[:,:] # ['BG0', 'BG_PH', 'BGday_var', 'dBG30', 'dBG60','eda0','hr0','step0','t0','temp0']\n",
        "    \n",
        "for m, suff in enumerate(mayo_suffs):\n",
        "    filename = 'mayo-%s.p' % suff\n",
        "    data_bypat['m%s' % (m+1)] = pickle.load(io.BytesIO(uploaded[filename]))\n",
        "    data_bypat['m%s' % (m+1)] = data_bypat['m%s' % (m+1)].fillna(data_bypat['m%s' % (m+1)].mean())\n",
        "    data_bypat['m%s' % (m+1)] = data_bypat['m%s' % (m+1)].loc[:,:] #['BG0', 'BG_PH', 'BGday_var', 'dBG30', 'dBG60','eda0','hr0','step0','t0','temp0']"
      ],
      "execution_count": 0,
      "outputs": []
    },
    {
      "cell_type": "code",
      "metadata": {
        "id": "SZn2WLj7JXSV",
        "colab_type": "code",
        "outputId": "e888c5fa-9406-43d4-a200-37700671e524",
        "colab": {
          "base_uri": "https://localhost:8080/",
          "height": 136
        }
      },
      "source": [
        "data_bypat['m4'].columns"
      ],
      "execution_count": 0,
      "outputs": [
        {
          "output_type": "execute_result",
          "data": {
            "text/plain": [
              "Index(['BG0', 'BG_PH', 'BGday_var', 'dBG30', 'dBG60', 'deda30', 'deda60',\n",
              "       'dtemp30', 'dtemp60', 'eda0', 'edaday_var', 'hr0', 'step0', 't0',\n",
              "       'temp0', 'tempday_var', 'step0mean_1hr', 'step0mean_2hr',\n",
              "       'step0mean_3hr', 'step0mean_4hr', 'step0mean_5hr', 'hr0adj_curr',\n",
              "       'hr0adj_mean_1hr', 'hr0adj_mean_2hr', 'hr0adj_mean_3hr',\n",
              "       'hr0adj_mean_4hr', 'hr0adj_mean_5hr'],\n",
              "      dtype='object')"
            ]
          },
          "metadata": {
            "tags": []
          },
          "execution_count": 7
        }
      ]
    },
    {
      "cell_type": "code",
      "metadata": {
        "id": "zJXj_u4YJfm7",
        "colab_type": "code",
        "colab": {}
      },
      "source": [
        "# Generate 9 folds with random pairs of patients for cross validation\n",
        "def get_folds(data):\n",
        "    keynames = list(data.keys()) # get the key names that represent individual patients\n",
        "    random.shuffle(keynames) # shuffle them into a random order\n",
        "    folds = np.reshape(keynames, [9,2]) # pair them off into 9 folds\n",
        "    return folds"
      ],
      "execution_count": 0,
      "outputs": []
    },
    {
      "cell_type": "code",
      "metadata": {
        "id": "UxXNgvT5KkQT",
        "colab_type": "code",
        "colab": {}
      },
      "source": [
        "## intakes training and test predictors, then scales them all down to be 0 mean and 1 variance (according to what is observed in training set)\n",
        "\n",
        "def scale_data(xtrain,xtest):\n",
        "    scaler = StandardScaler() # generate scaler\n",
        "    xtrain.loc[:,:] = scaler.fit_transform(xtrain) # fit and transform on training\n",
        "    xtest.loc[:,:] = scaler.transform(xtest) # naively transform test data without fitting to it\n",
        "    return xtrain, xtest"
      ],
      "execution_count": 0,
      "outputs": []
    },
    {
      "cell_type": "code",
      "metadata": {
        "id": "HRQhZSJEKmRd",
        "colab_type": "code",
        "colab": {}
      },
      "source": [
        "### takes in the by patient data and the folds by which to seperate, outputs training features/labels and testing features/labels for the current fold being tested \n",
        "def get_train_test(data,folds,current_fold):\n",
        "    ## get the test data\n",
        "    \n",
        "    # extract patients in current fold for testing\n",
        "    test_data1 = data[folds[current_fold,0]]\n",
        "    test_data2 = data[folds[current_fold,1]]\n",
        "    # combine into one testing df and shuffle\n",
        "    test_data = pd.concat([test_data1,test_data2],ignore_index=True).sample(frac=1)                                                                                                                                                                                                                                       \n",
        "    # split into predictors and labels\n",
        "    test_y = test_data['BG_PH']\n",
        "    test_x = test_data.drop(columns=['BG_PH'])\n",
        "    \n",
        "    \n",
        "    ## extract patients not in current fold for training\n",
        "    \n",
        "    # drop the testing fold and flatten the patient array for iteration\n",
        "    train_pats = np.delete(folds,current_fold,axis=0).flatten()\n",
        "    train_data = pd.DataFrame() # holder df for training data\n",
        "    # combine into one training df and shuffle\n",
        "    for pat in train_pats:\n",
        "        train_data = pd.concat([train_data,data[pat]], ignore_index=True)\n",
        "    train_data  = train_data.sample(frac=1)\n",
        "    train_y = train_data['BG_PH']\n",
        "    train_x = train_data.drop(columns=['BG_PH'])\n",
        "    \n",
        "    train_x, test_x = scale_data(train_x,test_x)\n",
        "    \n",
        "    return test_y, test_x, train_y, train_x"
      ],
      "execution_count": 0,
      "outputs": []
    },
    {
      "cell_type": "code",
      "metadata": {
        "id": "3YMLzs2YKpSz",
        "colab_type": "code",
        "colab": {}
      },
      "source": [
        "def get_RMSE(actual,predicted):\n",
        "    return np.sqrt(np.mean((actual-predicted)**2))"
      ],
      "execution_count": 0,
      "outputs": []
    },
    {
      "cell_type": "code",
      "metadata": {
        "id": "yNRBU2diuu21",
        "colab_type": "code",
        "colab": {}
      },
      "source": [
        "def PCA_transform(train_x, test_x):\n",
        "    train_x, test_x = scale_data(train_x, test_x)\n",
        "    pca = PCA() # full PCA with no automatic truncation\n",
        "    train_pca = pca.fit_transform(train_x) # fit the pca and transform the training values\n",
        "    test_pca = pca.transform(test_x) # transform the test data without looking at it fr adjusting pca\n",
        "    print(train_x.head())\n",
        "    return train_pca, test_pca, pca.explained_variance_ratio_\n"
      ],
      "execution_count": 0,
      "outputs": []
    },
    {
      "cell_type": "code",
      "metadata": {
        "id": "2A6rwrQiK2Y9",
        "colab_type": "code",
        "outputId": "5c136278-f365-4d13-b750-365d5154adcb",
        "colab": {
          "base_uri": "https://localhost:8080/",
          "height": 153
        }
      },
      "source": [
        "#def test_networks(data,folds,)\n",
        "\n",
        "folds = get_folds(data_bypat)\n",
        "\n",
        "test_y, test_x, train_y, train_x = get_train_test(data_bypat,folds,1)\n",
        "train_x, test_x, holder_ = PCA_transform(train_x,test_x)\n",
        "train_x = pd.DataFrame(train_x[:,:15])\n",
        "test_x = pd.DataFrame(test_x[:,:15])\n",
        "# cross validation is handled within the keras model fitting\n",
        "#train_x = train_x.append(test_x)\n",
        "#train_y = train_y.append(test_y)\n",
        "#train_x,test_x = scale_data(train_x,test_x)\n",
        "\n",
        "model = Sequential([\n",
        "    layers.Dense(32, activation='tanh', input_shape=[len(train_x.columns)]),\n",
        "    layers.Dense(32, activation='tanh'),\n",
        "    layers.Dense(32, activation='tanh'),\n",
        "    layers.Dense(1) # output layer\n",
        "])\n",
        "\n",
        "# the method of optimization for the network\n",
        "optimizer = Adagrad()\n",
        "\n",
        "# compile the model together with its loss function and optimization approach\n",
        "model.compile(\n",
        "  loss='mse',\n",
        "  optimizer=optimizer,\n",
        "  metrics=['mse','mae'])"
      ],
      "execution_count": 0,
      "outputs": [
        {
          "output_type": "stream",
          "text": [
            "            BG0  BGday_var  ...  hr0adj_mean_4hr  hr0adj_mean_5hr\n",
            "2884  -0.809906  -1.006524  ...        -0.419465        -0.287670\n",
            "56151 -0.177244   2.976637  ...         2.050298         0.110198\n",
            "7061  -0.208877   1.172333  ...        -1.205175        -2.311872\n",
            "34249 -1.347669  -1.006882  ...         0.284691         0.516700\n",
            "28962  1.578394   1.768667  ...        -2.181766        -0.051763\n",
            "\n",
            "[5 rows x 26 columns]\n"
          ],
          "name": "stdout"
        }
      ]
    },
    {
      "cell_type": "code",
      "metadata": {
        "id": "EYt2_X6rZ0Lg",
        "colab_type": "code",
        "outputId": "4699ab70-1e11-4490-a372-09759c4cb686",
        "colab": {
          "base_uri": "https://localhost:8080/",
          "height": 289
        }
      },
      "source": [
        "model.summary()"
      ],
      "execution_count": 0,
      "outputs": [
        {
          "output_type": "stream",
          "text": [
            "Model: \"sequential_7\"\n",
            "_________________________________________________________________\n",
            "Layer (type)                 Output Shape              Param #   \n",
            "=================================================================\n",
            "dense_25 (Dense)             (None, 32)                512       \n",
            "_________________________________________________________________\n",
            "dense_26 (Dense)             (None, 32)                1056      \n",
            "_________________________________________________________________\n",
            "dense_27 (Dense)             (None, 32)                1056      \n",
            "_________________________________________________________________\n",
            "dense_28 (Dense)             (None, 1)                 33        \n",
            "=================================================================\n",
            "Total params: 2,657\n",
            "Trainable params: 2,657\n",
            "Non-trainable params: 0\n",
            "_________________________________________________________________\n"
          ],
          "name": "stdout"
        }
      ]
    },
    {
      "cell_type": "code",
      "metadata": {
        "id": "xb0Z572PyR4D",
        "colab_type": "code",
        "outputId": "cde67895-0cf7-45e3-9345-441f1f2c4420",
        "colab": {
          "base_uri": "https://localhost:8080/",
          "height": 419
        }
      },
      "source": [
        "train_x"
      ],
      "execution_count": 0,
      "outputs": [
        {
          "output_type": "execute_result",
          "data": {
            "text/html": [
              "<div>\n",
              "<style scoped>\n",
              "    .dataframe tbody tr th:only-of-type {\n",
              "        vertical-align: middle;\n",
              "    }\n",
              "\n",
              "    .dataframe tbody tr th {\n",
              "        vertical-align: top;\n",
              "    }\n",
              "\n",
              "    .dataframe thead th {\n",
              "        text-align: right;\n",
              "    }\n",
              "</style>\n",
              "<table border=\"1\" class=\"dataframe\">\n",
              "  <thead>\n",
              "    <tr style=\"text-align: right;\">\n",
              "      <th></th>\n",
              "      <th>0</th>\n",
              "      <th>1</th>\n",
              "      <th>2</th>\n",
              "      <th>3</th>\n",
              "      <th>4</th>\n",
              "      <th>5</th>\n",
              "      <th>6</th>\n",
              "      <th>7</th>\n",
              "      <th>8</th>\n",
              "      <th>9</th>\n",
              "      <th>10</th>\n",
              "      <th>11</th>\n",
              "      <th>12</th>\n",
              "      <th>13</th>\n",
              "      <th>14</th>\n",
              "    </tr>\n",
              "  </thead>\n",
              "  <tbody>\n",
              "    <tr>\n",
              "      <th>0</th>\n",
              "      <td>-0.408089</td>\n",
              "      <td>-2.368074</td>\n",
              "      <td>0.523010</td>\n",
              "      <td>0.416600</td>\n",
              "      <td>0.508171</td>\n",
              "      <td>-0.365818</td>\n",
              "      <td>0.856400</td>\n",
              "      <td>0.250670</td>\n",
              "      <td>-0.408402</td>\n",
              "      <td>0.281063</td>\n",
              "      <td>-0.487298</td>\n",
              "      <td>-0.267667</td>\n",
              "      <td>0.449603</td>\n",
              "      <td>-0.029765</td>\n",
              "      <td>0.076587</td>\n",
              "    </tr>\n",
              "    <tr>\n",
              "      <th>1</th>\n",
              "      <td>1.483986</td>\n",
              "      <td>-0.017345</td>\n",
              "      <td>-0.249375</td>\n",
              "      <td>-0.100146</td>\n",
              "      <td>-0.539672</td>\n",
              "      <td>0.277571</td>\n",
              "      <td>-1.840498</td>\n",
              "      <td>-0.221021</td>\n",
              "      <td>-0.001226</td>\n",
              "      <td>1.350619</td>\n",
              "      <td>-1.014519</td>\n",
              "      <td>-0.710444</td>\n",
              "      <td>0.012332</td>\n",
              "      <td>2.256418</td>\n",
              "      <td>0.057127</td>\n",
              "    </tr>\n",
              "    <tr>\n",
              "      <th>2</th>\n",
              "      <td>-2.810251</td>\n",
              "      <td>0.855681</td>\n",
              "      <td>0.950759</td>\n",
              "      <td>0.534055</td>\n",
              "      <td>0.172819</td>\n",
              "      <td>-2.004430</td>\n",
              "      <td>-0.777692</td>\n",
              "      <td>-0.324135</td>\n",
              "      <td>-0.144895</td>\n",
              "      <td>0.353388</td>\n",
              "      <td>-0.267347</td>\n",
              "      <td>-0.348952</td>\n",
              "      <td>0.387443</td>\n",
              "      <td>1.283227</td>\n",
              "      <td>0.146734</td>\n",
              "    </tr>\n",
              "    <tr>\n",
              "      <th>3</th>\n",
              "      <td>2.541912</td>\n",
              "      <td>1.403678</td>\n",
              "      <td>0.093143</td>\n",
              "      <td>0.452711</td>\n",
              "      <td>3.534974</td>\n",
              "      <td>0.268659</td>\n",
              "      <td>2.174503</td>\n",
              "      <td>-0.233595</td>\n",
              "      <td>3.194829</td>\n",
              "      <td>-1.321622</td>\n",
              "      <td>0.516093</td>\n",
              "      <td>0.393260</td>\n",
              "      <td>0.635407</td>\n",
              "      <td>-0.242229</td>\n",
              "      <td>1.429297</td>\n",
              "    </tr>\n",
              "    <tr>\n",
              "      <th>4</th>\n",
              "      <td>-4.181059</td>\n",
              "      <td>0.794913</td>\n",
              "      <td>-1.441060</td>\n",
              "      <td>0.172965</td>\n",
              "      <td>-0.882165</td>\n",
              "      <td>0.719073</td>\n",
              "      <td>-1.969925</td>\n",
              "      <td>-0.662306</td>\n",
              "      <td>-0.079475</td>\n",
              "      <td>0.168024</td>\n",
              "      <td>0.862766</td>\n",
              "      <td>0.121931</td>\n",
              "      <td>-0.058322</td>\n",
              "      <td>0.316839</td>\n",
              "      <td>0.524390</td>\n",
              "    </tr>\n",
              "    <tr>\n",
              "      <th>...</th>\n",
              "      <td>...</td>\n",
              "      <td>...</td>\n",
              "      <td>...</td>\n",
              "      <td>...</td>\n",
              "      <td>...</td>\n",
              "      <td>...</td>\n",
              "      <td>...</td>\n",
              "      <td>...</td>\n",
              "      <td>...</td>\n",
              "      <td>...</td>\n",
              "      <td>...</td>\n",
              "      <td>...</td>\n",
              "      <td>...</td>\n",
              "      <td>...</td>\n",
              "      <td>...</td>\n",
              "    </tr>\n",
              "    <tr>\n",
              "      <th>94227</th>\n",
              "      <td>-2.046408</td>\n",
              "      <td>0.585699</td>\n",
              "      <td>1.282170</td>\n",
              "      <td>-4.783171</td>\n",
              "      <td>2.066678</td>\n",
              "      <td>0.831192</td>\n",
              "      <td>-1.811284</td>\n",
              "      <td>-0.225052</td>\n",
              "      <td>0.503018</td>\n",
              "      <td>1.317900</td>\n",
              "      <td>-0.219458</td>\n",
              "      <td>-0.145230</td>\n",
              "      <td>-0.089264</td>\n",
              "      <td>-0.037975</td>\n",
              "      <td>-0.253354</td>\n",
              "    </tr>\n",
              "    <tr>\n",
              "      <th>94228</th>\n",
              "      <td>2.787527</td>\n",
              "      <td>1.094445</td>\n",
              "      <td>1.907802</td>\n",
              "      <td>0.267081</td>\n",
              "      <td>-1.055145</td>\n",
              "      <td>0.342881</td>\n",
              "      <td>-0.824018</td>\n",
              "      <td>0.112812</td>\n",
              "      <td>0.109479</td>\n",
              "      <td>-1.298074</td>\n",
              "      <td>0.030266</td>\n",
              "      <td>0.202117</td>\n",
              "      <td>0.845776</td>\n",
              "      <td>0.107561</td>\n",
              "      <td>-0.202801</td>\n",
              "    </tr>\n",
              "    <tr>\n",
              "      <th>94229</th>\n",
              "      <td>2.197701</td>\n",
              "      <td>0.659338</td>\n",
              "      <td>-0.088105</td>\n",
              "      <td>-0.929837</td>\n",
              "      <td>0.293179</td>\n",
              "      <td>-0.261142</td>\n",
              "      <td>1.143760</td>\n",
              "      <td>0.042148</td>\n",
              "      <td>-0.666877</td>\n",
              "      <td>0.980922</td>\n",
              "      <td>-1.104872</td>\n",
              "      <td>0.157815</td>\n",
              "      <td>0.414075</td>\n",
              "      <td>-0.572063</td>\n",
              "      <td>-0.193219</td>\n",
              "    </tr>\n",
              "    <tr>\n",
              "      <th>94230</th>\n",
              "      <td>-0.977008</td>\n",
              "      <td>0.890280</td>\n",
              "      <td>-1.135762</td>\n",
              "      <td>-3.133869</td>\n",
              "      <td>1.402935</td>\n",
              "      <td>1.081427</td>\n",
              "      <td>1.464800</td>\n",
              "      <td>0.109980</td>\n",
              "      <td>-0.122180</td>\n",
              "      <td>-0.258980</td>\n",
              "      <td>-0.274182</td>\n",
              "      <td>0.101107</td>\n",
              "      <td>-0.524832</td>\n",
              "      <td>0.325574</td>\n",
              "      <td>0.020349</td>\n",
              "    </tr>\n",
              "    <tr>\n",
              "      <th>94231</th>\n",
              "      <td>-1.851387</td>\n",
              "      <td>-1.068956</td>\n",
              "      <td>-1.587804</td>\n",
              "      <td>0.584728</td>\n",
              "      <td>0.048965</td>\n",
              "      <td>0.939091</td>\n",
              "      <td>-0.511509</td>\n",
              "      <td>-0.237817</td>\n",
              "      <td>-0.183788</td>\n",
              "      <td>0.038062</td>\n",
              "      <td>-1.118321</td>\n",
              "      <td>-0.118470</td>\n",
              "      <td>0.255334</td>\n",
              "      <td>2.021691</td>\n",
              "      <td>-0.006907</td>\n",
              "    </tr>\n",
              "  </tbody>\n",
              "</table>\n",
              "<p>94232 rows × 15 columns</p>\n",
              "</div>"
            ],
            "text/plain": [
              "             0         1         2   ...        12        13        14\n",
              "0     -0.408089 -2.368074  0.523010  ...  0.449603 -0.029765  0.076587\n",
              "1      1.483986 -0.017345 -0.249375  ...  0.012332  2.256418  0.057127\n",
              "2     -2.810251  0.855681  0.950759  ...  0.387443  1.283227  0.146734\n",
              "3      2.541912  1.403678  0.093143  ...  0.635407 -0.242229  1.429297\n",
              "4     -4.181059  0.794913 -1.441060  ... -0.058322  0.316839  0.524390\n",
              "...         ...       ...       ...  ...       ...       ...       ...\n",
              "94227 -2.046408  0.585699  1.282170  ... -0.089264 -0.037975 -0.253354\n",
              "94228  2.787527  1.094445  1.907802  ...  0.845776  0.107561 -0.202801\n",
              "94229  2.197701  0.659338 -0.088105  ...  0.414075 -0.572063 -0.193219\n",
              "94230 -0.977008  0.890280 -1.135762  ... -0.524832  0.325574  0.020349\n",
              "94231 -1.851387 -1.068956 -1.587804  ...  0.255334  2.021691 -0.006907\n",
              "\n",
              "[94232 rows x 15 columns]"
            ]
          },
          "metadata": {
            "tags": []
          },
          "execution_count": 91
        }
      ]
    },
    {
      "cell_type": "code",
      "metadata": {
        "id": "evxg25690yGa",
        "colab_type": "code",
        "colab": {}
      },
      "source": [
        ""
      ],
      "execution_count": 0,
      "outputs": []
    },
    {
      "cell_type": "code",
      "metadata": {
        "id": "-ecPbMkTcr7b",
        "colab_type": "code",
        "outputId": "5d5d6366-de63-49bc-82dd-d8cd841713ce",
        "colab": {
          "base_uri": "https://localhost:8080/",
          "height": 119
        }
      },
      "source": [
        "class PrintDot(keras.callbacks.Callback):\n",
        "  def on_epoch_end(self, epoch, logs):\n",
        "    if epoch % 100 == 0: print('')\n",
        "    print('.', end='')\n",
        "\n",
        "\n",
        "history = model.fit(\n",
        "  train_x, train_y,\n",
        "  epochs=500, # train on dataset 1000 times\n",
        "  validation_split = .2, # needed to determine reasonable epoch size where learning stops\n",
        "  verbose=0, # dont output progress bar\n",
        "  shuffle=True,# shuffle data each epoch\n",
        "  callbacks = [PrintDot()]) # track progress"
      ],
      "execution_count": 0,
      "outputs": [
        {
          "output_type": "stream",
          "text": [
            "\n",
            "....................................................................................................\n",
            "....................................................................................................\n",
            "....................................................................................................\n",
            "....................................................................................................\n",
            "...................................................................................................."
          ],
          "name": "stdout"
        }
      ]
    },
    {
      "cell_type": "code",
      "metadata": {
        "id": "zQ1EDKHBhPLr",
        "colab_type": "code",
        "outputId": "a45f9bf1-9206-4842-aee5-b37369afa593",
        "colab": {
          "base_uri": "https://localhost:8080/",
          "height": 541
        }
      },
      "source": [
        "hist = pd.DataFrame(history.history)\n",
        "hist['epoch'] = history.epoch\n",
        "\n",
        "def plot_history(history):\n",
        "  hist = pd.DataFrame(history.history)\n",
        "  hist['epoch'] = history.epoch\n",
        "\n",
        "  plt.figure()\n",
        "  plt.xlabel('Epoch')\n",
        "  plt.ylabel('Mean Abs Error (mg/dL)')\n",
        "  plt.plot(hist['epoch'], hist['mean_absolute_error'])\n",
        "  plt.plot(hist['epoch'], hist['val_mean_absolute_error'])\n",
        "  plt.legend(['train','val'])\n",
        "\n",
        "  plt.figure()\n",
        "  plt.xlabel('Epoch')\n",
        "  plt.ylabel('Mean Square Error (mg/dL)^2')\n",
        "  plt.plot(hist['epoch'], hist['mean_squared_error']**.5,\n",
        "           label='Train Error')\n",
        "  plt.plot(hist['epoch'], hist['val_mean_squared_error']**.5,\n",
        "           label = 'Val Error')\n",
        "  plt.legend()\n",
        "  plt.show()\n",
        "\n",
        "\n",
        "plot_history(history)"
      ],
      "execution_count": 0,
      "outputs": [
        {
          "output_type": "display_data",
          "data": {
            "image/png": "[encoded data removed]",
            "text/plain": [
              "<Figure size 432x288 with 1 Axes>"
            ]
          },
          "metadata": {
            "tags": []
          }
        },
        {
          "output_type": "display_data",
          "data": {
            "image/png": "[encoded data removed]",
            "text/plain": [
              "<Figure size 432x288 with 1 Axes>"
            ]
          },
          "metadata": {
            "tags": []
          }
        }
      ]
    },
    {
      "cell_type": "code",
      "metadata": {
        "id": "P0XUidEVmXt7",
        "colab_type": "code",
        "outputId": "89dcee45-f395-40de-d501-bd09310fbdfb",
        "colab": {
          "base_uri": "https://localhost:8080/",
          "height": 419
        }
      },
      "source": [
        "hist"
      ],
      "execution_count": 0,
      "outputs": [
        {
          "output_type": "execute_result",
          "data": {
            "text/html": [
              "<div>\n",
              "<style scoped>\n",
              "    .dataframe tbody tr th:only-of-type {\n",
              "        vertical-align: middle;\n",
              "    }\n",
              "\n",
              "    .dataframe tbody tr th {\n",
              "        vertical-align: top;\n",
              "    }\n",
              "\n",
              "    .dataframe thead th {\n",
              "        text-align: right;\n",
              "    }\n",
              "</style>\n",
              "<table border=\"1\" class=\"dataframe\">\n",
              "  <thead>\n",
              "    <tr style=\"text-align: right;\">\n",
              "      <th></th>\n",
              "      <th>val_loss</th>\n",
              "      <th>val_mean_squared_error</th>\n",
              "      <th>val_mean_absolute_error</th>\n",
              "      <th>loss</th>\n",
              "      <th>mean_squared_error</th>\n",
              "      <th>mean_absolute_error</th>\n",
              "      <th>epoch</th>\n",
              "    </tr>\n",
              "  </thead>\n",
              "  <tbody>\n",
              "    <tr>\n",
              "      <th>0</th>\n",
              "      <td>17275.067599</td>\n",
              "      <td>17275.067599</td>\n",
              "      <td>114.877221</td>\n",
              "      <td>19415.655611</td>\n",
              "      <td>19415.655611</td>\n",
              "      <td>124.067976</td>\n",
              "      <td>0</td>\n",
              "    </tr>\n",
              "    <tr>\n",
              "      <th>1</th>\n",
              "      <td>14622.163892</td>\n",
              "      <td>14622.163892</td>\n",
              "      <td>102.821010</td>\n",
              "      <td>15496.073365</td>\n",
              "      <td>15496.073365</td>\n",
              "      <td>107.350074</td>\n",
              "      <td>1</td>\n",
              "    </tr>\n",
              "    <tr>\n",
              "      <th>2</th>\n",
              "      <td>12892.195864</td>\n",
              "      <td>12892.195864</td>\n",
              "      <td>94.235642</td>\n",
              "      <td>13382.021967</td>\n",
              "      <td>13382.021967</td>\n",
              "      <td>97.201692</td>\n",
              "      <td>2</td>\n",
              "    </tr>\n",
              "    <tr>\n",
              "      <th>3</th>\n",
              "      <td>11603.232120</td>\n",
              "      <td>11603.232120</td>\n",
              "      <td>87.466454</td>\n",
              "      <td>11910.419392</td>\n",
              "      <td>11910.419392</td>\n",
              "      <td>89.618799</td>\n",
              "      <td>3</td>\n",
              "    </tr>\n",
              "    <tr>\n",
              "      <th>4</th>\n",
              "      <td>10587.601574</td>\n",
              "      <td>10587.601574</td>\n",
              "      <td>81.927076</td>\n",
              "      <td>10782.409165</td>\n",
              "      <td>10782.409165</td>\n",
              "      <td>83.532348</td>\n",
              "      <td>4</td>\n",
              "    </tr>\n",
              "    <tr>\n",
              "      <th>...</th>\n",
              "      <td>...</td>\n",
              "      <td>...</td>\n",
              "      <td>...</td>\n",
              "      <td>...</td>\n",
              "      <td>...</td>\n",
              "      <td>...</td>\n",
              "      <td>...</td>\n",
              "    </tr>\n",
              "    <tr>\n",
              "      <th>495</th>\n",
              "      <td>635.284631</td>\n",
              "      <td>635.284631</td>\n",
              "      <td>17.375950</td>\n",
              "      <td>616.607220</td>\n",
              "      <td>616.607220</td>\n",
              "      <td>17.122255</td>\n",
              "      <td>495</td>\n",
              "    </tr>\n",
              "    <tr>\n",
              "      <th>496</th>\n",
              "      <td>634.973875</td>\n",
              "      <td>634.973875</td>\n",
              "      <td>17.325332</td>\n",
              "      <td>616.286145</td>\n",
              "      <td>616.286145</td>\n",
              "      <td>17.126217</td>\n",
              "      <td>496</td>\n",
              "    </tr>\n",
              "    <tr>\n",
              "      <th>497</th>\n",
              "      <td>634.595472</td>\n",
              "      <td>634.595472</td>\n",
              "      <td>17.337049</td>\n",
              "      <td>615.964811</td>\n",
              "      <td>615.964811</td>\n",
              "      <td>17.117106</td>\n",
              "      <td>497</td>\n",
              "    </tr>\n",
              "    <tr>\n",
              "      <th>498</th>\n",
              "      <td>633.934924</td>\n",
              "      <td>633.934924</td>\n",
              "      <td>17.352322</td>\n",
              "      <td>615.561886</td>\n",
              "      <td>615.561886</td>\n",
              "      <td>17.110306</td>\n",
              "      <td>498</td>\n",
              "    </tr>\n",
              "    <tr>\n",
              "      <th>499</th>\n",
              "      <td>633.636561</td>\n",
              "      <td>633.636561</td>\n",
              "      <td>17.316226</td>\n",
              "      <td>615.185212</td>\n",
              "      <td>615.185212</td>\n",
              "      <td>17.115216</td>\n",
              "      <td>499</td>\n",
              "    </tr>\n",
              "  </tbody>\n",
              "</table>\n",
              "<p>500 rows × 7 columns</p>\n",
              "</div>"
            ],
            "text/plain": [
              "         val_loss  val_mean_squared_error  ...  mean_absolute_error  epoch\n",
              "0    17275.067599            17275.067599  ...           124.067976      0\n",
              "1    14622.163892            14622.163892  ...           107.350074      1\n",
              "2    12892.195864            12892.195864  ...            97.201692      2\n",
              "3    11603.232120            11603.232120  ...            89.618799      3\n",
              "4    10587.601574            10587.601574  ...            83.532348      4\n",
              "..            ...                     ...  ...                  ...    ...\n",
              "495    635.284631              635.284631  ...            17.122255    495\n",
              "496    634.973875              634.973875  ...            17.126217    496\n",
              "497    634.595472              634.595472  ...            17.117106    497\n",
              "498    633.934924              633.934924  ...            17.110306    498\n",
              "499    633.636561              633.636561  ...            17.115216    499\n",
              "\n",
              "[500 rows x 7 columns]"
            ]
          },
          "metadata": {
            "tags": []
          },
          "execution_count": 94
        }
      ]
    },
    {
      "cell_type": "code",
      "metadata": {
        "id": "WiIdXL3QNbMf",
        "colab_type": "code",
        "outputId": "730abf78-3da6-419a-f464-eba7c581f25c",
        "colab": {
          "base_uri": "https://localhost:8080/",
          "height": 282
        }
      },
      "source": [
        "plt.plot(hist.loc[50:,'epoch'],hist.loc[50:,'mean_absolute_error'])"
      ],
      "execution_count": 0,
      "outputs": [
        {
          "output_type": "execute_result",
          "data": {
            "text/plain": [
              "[<matplotlib.lines.Line2D at 0x7f1850fcdda0>]"
            ]
          },
          "metadata": {
            "tags": []
          },
          "execution_count": 95
        },
        {
          "output_type": "display_data",
          "data": {
            "image/png": "[encoded data removed]",
            "text/plain": [
              "<Figure size 432x288 with 1 Axes>"
            ]
          },
          "metadata": {
            "tags": []
          }
        }
      ]
    },
    {
      "cell_type": "code",
      "metadata": {
        "id": "SfOws8G1OHwe",
        "colab_type": "code",
        "colab": {}
      },
      "source": [
        "rmse = np.sqrt(hist['val_mean_squared_error'])\n",
        "train_rmse = np.sqrt(hist['mean_squared_error'])"
      ],
      "execution_count": 0,
      "outputs": []
    },
    {
      "cell_type": "code",
      "metadata": {
        "id": "Gvx2MYD4e0_5",
        "colab_type": "code",
        "outputId": "6daec450-6f2d-41e8-de2f-8164fa271f91",
        "colab": {
          "base_uri": "https://localhost:8080/",
          "height": 34
        }
      },
      "source": [
        "np.min(rmse)"
      ],
      "execution_count": 0,
      "outputs": [
        {
          "output_type": "execute_result",
          "data": {
            "text/plain": [
              "25.172138576269393"
            ]
          },
          "metadata": {
            "tags": []
          },
          "execution_count": 97
        }
      ]
    },
    {
      "cell_type": "code",
      "metadata": {
        "id": "r4jA8-9PoFqI",
        "colab_type": "code",
        "outputId": "b8da8737-169d-41ce-d6d5-d6b47015875c",
        "colab": {
          "base_uri": "https://localhost:8080/",
          "height": 34
        }
      },
      "source": [
        "np.min(train_rmse)"
      ],
      "execution_count": 0,
      "outputs": [
        {
          "output_type": "execute_result",
          "data": {
            "text/plain": [
              "24.80292749792569"
            ]
          },
          "metadata": {
            "tags": []
          },
          "execution_count": 98
        }
      ]
    },
    {
      "cell_type": "code",
      "metadata": {
        "id": "RkVm0HT2e6ni",
        "colab_type": "code",
        "colab": {}
      },
      "source": [
        "def CEG_analysis(measured,predicted):\n",
        "    \n",
        "    ## determine which points fall in each region\n",
        "    \n",
        "    a_measured = measured.loc[(abs(measured-predicted)<=.2*measured) | ((measured<=70)&(predicted<=70))]\n",
        "    a_predicted = predicted.loc[(abs(measured-predicted)<=.2*measured) | ((measured<=70)&(predicted<=70))]\n",
        "    \n",
        "    e_measured = measured.loc[((measured<=70)&(predicted>180)) | ((measured>180)&(predicted<=70))]\n",
        "    e_predicted = predicted.loc[((measured<=70)&(predicted>180)) | ((measured>180)&(predicted<=70))]\n",
        "    \n",
        "    # make sure to exclude a conditions\n",
        "    d_measured = measured.loc[(((predicted>70)&(predicted<=180)) & ((measured<=70)|(measured>240))) & ~(abs(measured-predicted)<=.2*measured)]\n",
        "    d_predicted = predicted.loc[(((predicted>70)&(predicted<=180)) & ((measured<=70)|(measured>240))) & ~(abs(measured-predicted)<=.2*measured)]\n",
        "    \n",
        "    c_measured = measured.loc[(((predicted<=70)&(measured<=180))&(predicted<7/5*(measured-130))) | (((predicted>180)&(measured<predicted-110))&(measured>70))]\n",
        "    c_predicted = predicted.loc[(((predicted<=70)&(measured<=180))&(predicted<7/5*(measured-130))) | (((predicted>180)&(measured<predicted-110))&(measured>70))]\n",
        "    \n",
        "    not_b_inds_measured = np.concatenate([a_measured.index.values,c_measured.index.values,d_measured.index.values,e_measured.index.values])\n",
        "    not_b_inds_predicted = np.concatenate([a_predicted.index.values,c_predicted.index.values,d_predicted.index.values,e_predicted.index.values])\n",
        "    print(np.shape(not_b_inds_measured))\n",
        "    print(type(not_b_inds_measured))\n",
        "    print(type(a_measured.index.values))\n",
        "    print(a_measured.index.values)\n",
        "    b_measured = measured.drop(index=not_b_inds_measured)\n",
        "    b_predicted = predicted.drop(index=not_b_inds_predicted)\n",
        "\n",
        "    \n",
        "    ## get the percent in each region\n",
        "    \n",
        "    a_per = 100*len(a_measured)/len(measured)\n",
        "    b_per = 100*len(b_measured)/len(measured)\n",
        "    c_per = 100*len(c_measured)/len(measured)\n",
        "    d_per = 100*len(d_measured)/len(measured)\n",
        "    e_per = 100*len(e_measured)/len(measured)\n",
        "    \n",
        "    \n",
        "    ## do the plotting\n",
        "    \n",
        "    ceg = mpimg.imread('CEG400_clean.jpg')\n",
        "    \n",
        "    plt.figure(figsize=[10,10])\n",
        "    plt.imshow(ceg,extent=[0,400,0,400])\n",
        "    plt.scatter(e_measured,e_predicted,c='#c90d00')\n",
        "    plt.scatter(d_measured,d_predicted,c='#ff4c40')\n",
        "    plt.scatter(c_measured,c_predicted,c='#ff8880')\n",
        "    plt.scatter(b_measured,b_predicted,c='#93ff82')\n",
        "    plt.scatter(a_measured,a_predicted,c='#28c410')\n",
        "    \n",
        "    \n",
        "    \n",
        "    \n",
        "    \n",
        "    plt.title('CEG Analysis', fontsize=22)\n",
        "    plt.xlabel('Measured BG (mg/dL)', fontsize=22)\n",
        "    plt.ylabel('Predicted BG (mg/dL)', fontsize=22)\n",
        "    plt.xlim([0,400])\n",
        "    plt.ylim([0,400])\n",
        "    plt.legend(['E','D','C','B','A'], fontsize=22)\n",
        "    \n",
        "    return [a_per,b_per,c_per,d_per,e_per]"
      ],
      "execution_count": 0,
      "outputs": []
    },
    {
      "cell_type": "code",
      "metadata": {
        "id": "7Ut0O-tTfkPV",
        "colab_type": "code",
        "colab": {}
      },
      "source": [
        "test_y_pred = test_y.copy()\n",
        "test_y_pred.loc[:]= model.predict(test_x).squeeze()"
      ],
      "execution_count": 0,
      "outputs": []
    },
    {
      "cell_type": "code",
      "metadata": {
        "id": "KOngcsSC8XpY",
        "colab_type": "code",
        "outputId": "736fd994-52d1-4591-db6c-813fabee3aaf",
        "colab": {
          "base_uri": "https://localhost:8080/",
          "height": 329
        }
      },
      "source": [
        "uploaded_ = files.upload()"
      ],
      "execution_count": 0,
      "outputs": [
        {
          "output_type": "display_data",
          "data": {
            "text/html": [
              "\n",
              "     <input type=\"file\" id=\"files-663e4dc2-3615-475b-98c6-d7cd97706438\" name=\"files[]\" multiple disabled />\n",
              "     <output id=\"result-663e4dc2-3615-475b-98c6-d7cd97706438\">\n",
              "      Upload widget is only available when the cell has been executed in the\n",
              "      current browser session. Please rerun this cell to enable.\n",
              "      </output>\n",
              "      <script src=\"/nbextensions/google.colab/files.js\"></script> "
            ],
            "text/plain": [
              "<IPython.core.display.HTML object>"
            ]
          },
          "metadata": {
            "tags": []
          }
        },
        {
          "output_type": "error",
          "ename": "MessageError",
          "evalue": "ignored",
          "traceback": [
            "\u001b[0;31m---------------------------------------------------------------------------\u001b[0m",
            "\u001b[0;31mMessageError\u001b[0m                              Traceback (most recent call last)",
            "\u001b[0;32m<ipython-input-102-2966d76df72e>\u001b[0m in \u001b[0;36m<module>\u001b[0;34m()\u001b[0m\n\u001b[0;32m----> 1\u001b[0;31m \u001b[0muploaded_\u001b[0m \u001b[0;34m=\u001b[0m \u001b[0mfiles\u001b[0m\u001b[0;34m.\u001b[0m\u001b[0mupload\u001b[0m\u001b[0;34m(\u001b[0m\u001b[0;34m)\u001b[0m\u001b[0;34m\u001b[0m\u001b[0;34m\u001b[0m\u001b[0m\n\u001b[0m",
            "\u001b[0;32m/usr/local/lib/python3.6/dist-packages/google/colab/files.py\u001b[0m in \u001b[0;36mupload\u001b[0;34m()\u001b[0m\n\u001b[1;32m     62\u001b[0m   result = _output.eval_js(\n\u001b[1;32m     63\u001b[0m       'google.colab._files._uploadFiles(\"{input_id}\", \"{output_id}\")'.format(\n\u001b[0;32m---> 64\u001b[0;31m           input_id=input_id, output_id=output_id))\n\u001b[0m\u001b[1;32m     65\u001b[0m   \u001b[0mfiles\u001b[0m \u001b[0;34m=\u001b[0m \u001b[0m_collections\u001b[0m\u001b[0;34m.\u001b[0m\u001b[0mdefaultdict\u001b[0m\u001b[0;34m(\u001b[0m\u001b[0m_six\u001b[0m\u001b[0;34m.\u001b[0m\u001b[0mbinary_type\u001b[0m\u001b[0;34m)\u001b[0m\u001b[0;34m\u001b[0m\u001b[0;34m\u001b[0m\u001b[0m\n\u001b[1;32m     66\u001b[0m   \u001b[0;31m# Mapping from original filename to filename as saved locally.\u001b[0m\u001b[0;34m\u001b[0m\u001b[0;34m\u001b[0m\u001b[0;34m\u001b[0m\u001b[0m\n",
            "\u001b[0;32m/usr/local/lib/python3.6/dist-packages/google/colab/output/_js.py\u001b[0m in \u001b[0;36meval_js\u001b[0;34m(script, ignore_result)\u001b[0m\n\u001b[1;32m     37\u001b[0m   \u001b[0;32mif\u001b[0m \u001b[0mignore_result\u001b[0m\u001b[0;34m:\u001b[0m\u001b[0;34m\u001b[0m\u001b[0;34m\u001b[0m\u001b[0m\n\u001b[1;32m     38\u001b[0m     \u001b[0;32mreturn\u001b[0m\u001b[0;34m\u001b[0m\u001b[0;34m\u001b[0m\u001b[0m\n\u001b[0;32m---> 39\u001b[0;31m   \u001b[0;32mreturn\u001b[0m \u001b[0m_message\u001b[0m\u001b[0;34m.\u001b[0m\u001b[0mread_reply_from_input\u001b[0m\u001b[0;34m(\u001b[0m\u001b[0mrequest_id\u001b[0m\u001b[0;34m)\u001b[0m\u001b[0;34m\u001b[0m\u001b[0;34m\u001b[0m\u001b[0m\n\u001b[0m\u001b[1;32m     40\u001b[0m \u001b[0;34m\u001b[0m\u001b[0m\n\u001b[1;32m     41\u001b[0m \u001b[0;34m\u001b[0m\u001b[0m\n",
            "\u001b[0;32m/usr/local/lib/python3.6/dist-packages/google/colab/_message.py\u001b[0m in \u001b[0;36mread_reply_from_input\u001b[0;34m(message_id, timeout_sec)\u001b[0m\n\u001b[1;32m    104\u001b[0m         reply.get('colab_msg_id') == message_id):\n\u001b[1;32m    105\u001b[0m       \u001b[0;32mif\u001b[0m \u001b[0;34m'error'\u001b[0m \u001b[0;32min\u001b[0m \u001b[0mreply\u001b[0m\u001b[0;34m:\u001b[0m\u001b[0;34m\u001b[0m\u001b[0;34m\u001b[0m\u001b[0m\n\u001b[0;32m--> 106\u001b[0;31m         \u001b[0;32mraise\u001b[0m \u001b[0mMessageError\u001b[0m\u001b[0;34m(\u001b[0m\u001b[0mreply\u001b[0m\u001b[0;34m[\u001b[0m\u001b[0;34m'error'\u001b[0m\u001b[0;34m]\u001b[0m\u001b[0;34m)\u001b[0m\u001b[0;34m\u001b[0m\u001b[0;34m\u001b[0m\u001b[0m\n\u001b[0m\u001b[1;32m    107\u001b[0m       \u001b[0;32mreturn\u001b[0m \u001b[0mreply\u001b[0m\u001b[0;34m.\u001b[0m\u001b[0mget\u001b[0m\u001b[0;34m(\u001b[0m\u001b[0;34m'data'\u001b[0m\u001b[0;34m,\u001b[0m \u001b[0;32mNone\u001b[0m\u001b[0;34m)\u001b[0m\u001b[0;34m\u001b[0m\u001b[0;34m\u001b[0m\u001b[0m\n\u001b[1;32m    108\u001b[0m \u001b[0;34m\u001b[0m\u001b[0m\n",
            "\u001b[0;31mMessageError\u001b[0m: TypeError: Cannot read property '_uploadFiles' of undefined"
          ]
        }
      ]
    },
    {
      "cell_type": "code",
      "metadata": {
        "id": "-EYmbBPKfmMt",
        "colab_type": "code",
        "outputId": "49ac24f1-6906-4942-ef49-d6fcb5d9c162",
        "colab": {
          "base_uri": "https://localhost:8080/",
          "height": 706
        }
      },
      "source": [
        "props = CEG_analysis(test_y,pd.Series(test_y_pred.squeeze()))"
      ],
      "execution_count": 0,
      "outputs": [
        {
          "output_type": "stream",
          "text": [
            "(10552,)\n",
            "<class 'numpy.ndarray'>\n",
            "<class 'numpy.ndarray'>\n",
            "[10722  7507  6778 ... 10223    15  7720]\n"
          ],
          "name": "stdout"
        },
        {
          "output_type": "display_data",
          "data": {
            "image/png": "[encoded data removed]",
            "text/plain": [
              "<Figure size 720x720 with 1 Axes>"
            ]
          },
          "metadata": {
            "tags": []
          }
        }
      ]
    },
    {
      "cell_type": "code",
      "metadata": {
        "id": "kqgrj0Oy6xtt",
        "colab_type": "code",
        "outputId": "d9662f9c-708b-46bd-fe15-9e29913aa4de",
        "colab": {
          "base_uri": "https://localhost:8080/",
          "height": 34
        }
      },
      "source": [
        "test_y_pred.squeeze().shape"
      ],
      "execution_count": 0,
      "outputs": [
        {
          "output_type": "execute_result",
          "data": {
            "text/plain": [
              "(11869,)"
            ]
          },
          "metadata": {
            "tags": []
          },
          "execution_count": 60
        }
      ]
    },
    {
      "cell_type": "code",
      "metadata": {
        "id": "qFYmYNjF61Gu",
        "colab_type": "code",
        "outputId": "05624f27-38ec-488c-ea5b-22593ac6df0d",
        "colab": {
          "base_uri": "https://localhost:8080/",
          "height": 34
        }
      },
      "source": [
        "len(pd.Series(test_y_pred.squeeze()))"
      ],
      "execution_count": 0,
      "outputs": [
        {
          "output_type": "execute_result",
          "data": {
            "text/plain": [
              "11869"
            ]
          },
          "metadata": {
            "tags": []
          },
          "execution_count": 67
        }
      ]
    },
    {
      "cell_type": "code",
      "metadata": {
        "id": "MI0tr-eo7VEn",
        "colab_type": "code",
        "outputId": "26b27b2a-ef59-4535-ddba-e60fad5a9fc0",
        "colab": {
          "base_uri": "https://localhost:8080/",
          "height": 34
        }
      },
      "source": [
        "len(train_y)"
      ],
      "execution_count": 0,
      "outputs": [
        {
          "output_type": "execute_result",
          "data": {
            "text/plain": [
              "94749"
            ]
          },
          "metadata": {
            "tags": []
          },
          "execution_count": 81
        }
      ]
    },
    {
      "cell_type": "code",
      "metadata": {
        "id": "LuTgD6Gy7hC1",
        "colab_type": "code",
        "outputId": "8a9c8785-4dbb-40e2-c0d8-8065ff86ce14",
        "colab": {
          "base_uri": "https://localhost:8080/",
          "height": 34
        }
      },
      "source": [
        "np.max(train_y)"
      ],
      "execution_count": 0,
      "outputs": [
        {
          "output_type": "execute_result",
          "data": {
            "text/plain": [
              "403.5"
            ]
          },
          "metadata": {
            "tags": []
          },
          "execution_count": 82
        }
      ]
    },
    {
      "cell_type": "code",
      "metadata": {
        "id": "q37IPfTX8soZ",
        "colab_type": "code",
        "outputId": "d38549f1-0b57-4f11-9d60-84d9e557d773",
        "colab": {
          "base_uri": "https://localhost:8080/",
          "height": 102
        }
      },
      "source": [
        "props"
      ],
      "execution_count": 0,
      "outputs": [
        {
          "output_type": "execute_result",
          "data": {
            "text/plain": [
              "[71.95214424130087,\n",
              " 20.473502401213246,\n",
              " 0.07582778667116016,\n",
              " 7.498525570814728,\n",
              " 0.0]"
            ]
          },
          "metadata": {
            "tags": []
          },
          "execution_count": 83
        }
      ]
    },
    {
      "cell_type": "code",
      "metadata": {
        "id": "0LKGi4XW9E08",
        "colab_type": "code",
        "outputId": "b7c4e940-3b30-403d-e661-0c7207724c11",
        "colab": {
          "base_uri": "https://localhost:8080/",
          "height": 34
        }
      },
      "source": [
        "props[0]+props[1]"
      ],
      "execution_count": 0,
      "outputs": [
        {
          "output_type": "execute_result",
          "data": {
            "text/plain": [
              "92.42564664251412"
            ]
          },
          "metadata": {
            "tags": []
          },
          "execution_count": 84
        }
      ]
    },
    {
      "cell_type": "code",
      "metadata": {
        "id": "BSznyyXd9Qpb",
        "colab_type": "code",
        "outputId": "c8880958-ba57-4ef0-995f-ab9905275bd2",
        "colab": {
          "base_uri": "https://localhost:8080/",
          "height": 297
        }
      },
      "source": [
        "train_x.describe()"
      ],
      "execution_count": 0,
      "outputs": [
        {
          "output_type": "execute_result",
          "data": {
            "text/html": [
              "<div>\n",
              "<style scoped>\n",
              "    .dataframe tbody tr th:only-of-type {\n",
              "        vertical-align: middle;\n",
              "    }\n",
              "\n",
              "    .dataframe tbody tr th {\n",
              "        vertical-align: top;\n",
              "    }\n",
              "\n",
              "    .dataframe thead th {\n",
              "        text-align: right;\n",
              "    }\n",
              "</style>\n",
              "<table border=\"1\" class=\"dataframe\">\n",
              "  <thead>\n",
              "    <tr style=\"text-align: right;\">\n",
              "      <th></th>\n",
              "      <th>0</th>\n",
              "      <th>1</th>\n",
              "      <th>2</th>\n",
              "      <th>3</th>\n",
              "      <th>4</th>\n",
              "      <th>5</th>\n",
              "      <th>6</th>\n",
              "      <th>7</th>\n",
              "      <th>8</th>\n",
              "      <th>9</th>\n",
              "      <th>10</th>\n",
              "      <th>11</th>\n",
              "      <th>12</th>\n",
              "      <th>13</th>\n",
              "      <th>14</th>\n",
              "    </tr>\n",
              "  </thead>\n",
              "  <tbody>\n",
              "    <tr>\n",
              "      <th>count</th>\n",
              "      <td>9.474900e+04</td>\n",
              "      <td>9.474900e+04</td>\n",
              "      <td>9.474900e+04</td>\n",
              "      <td>9.474900e+04</td>\n",
              "      <td>9.474900e+04</td>\n",
              "      <td>9.474900e+04</td>\n",
              "      <td>9.474900e+04</td>\n",
              "      <td>9.474900e+04</td>\n",
              "      <td>9.474900e+04</td>\n",
              "      <td>9.474900e+04</td>\n",
              "      <td>9.474900e+04</td>\n",
              "      <td>9.474900e+04</td>\n",
              "      <td>9.474900e+04</td>\n",
              "      <td>9.474900e+04</td>\n",
              "      <td>9.474900e+04</td>\n",
              "    </tr>\n",
              "    <tr>\n",
              "      <th>mean</th>\n",
              "      <td>6.107170e-18</td>\n",
              "      <td>-1.435557e-17</td>\n",
              "      <td>-9.748974e-19</td>\n",
              "      <td>-2.301320e-17</td>\n",
              "      <td>6.946144e-18</td>\n",
              "      <td>1.382960e-18</td>\n",
              "      <td>-1.728275e-17</td>\n",
              "      <td>-9.377822e-18</td>\n",
              "      <td>-5.655753e-18</td>\n",
              "      <td>-1.787859e-17</td>\n",
              "      <td>-1.703141e-18</td>\n",
              "      <td>-2.824273e-17</td>\n",
              "      <td>1.699040e-20</td>\n",
              "      <td>6.976683e-18</td>\n",
              "      <td>1.593172e-17</td>\n",
              "    </tr>\n",
              "    <tr>\n",
              "      <th>std</th>\n",
              "      <td>1.000005e+00</td>\n",
              "      <td>1.000005e+00</td>\n",
              "      <td>1.000005e+00</td>\n",
              "      <td>1.000005e+00</td>\n",
              "      <td>1.000005e+00</td>\n",
              "      <td>1.000005e+00</td>\n",
              "      <td>1.000005e+00</td>\n",
              "      <td>1.000005e+00</td>\n",
              "      <td>1.000005e+00</td>\n",
              "      <td>1.000005e+00</td>\n",
              "      <td>1.000005e+00</td>\n",
              "      <td>1.000005e+00</td>\n",
              "      <td>1.000005e+00</td>\n",
              "      <td>1.000005e+00</td>\n",
              "      <td>1.000005e+00</td>\n",
              "    </tr>\n",
              "    <tr>\n",
              "      <th>min</th>\n",
              "      <td>-3.838734e+00</td>\n",
              "      <td>-1.594262e+00</td>\n",
              "      <td>-4.416652e+00</td>\n",
              "      <td>-9.850083e+00</td>\n",
              "      <td>-4.164311e+00</td>\n",
              "      <td>-9.033554e+00</td>\n",
              "      <td>-5.914007e+00</td>\n",
              "      <td>-3.873858e+00</td>\n",
              "      <td>-1.417005e+01</td>\n",
              "      <td>-4.572800e+00</td>\n",
              "      <td>-8.359852e+00</td>\n",
              "      <td>-8.650813e+00</td>\n",
              "      <td>-8.982661e+00</td>\n",
              "      <td>-4.555207e+00</td>\n",
              "      <td>-1.191443e+01</td>\n",
              "    </tr>\n",
              "    <tr>\n",
              "      <th>25%</th>\n",
              "      <td>-5.334309e-01</td>\n",
              "      <td>-6.557915e-01</td>\n",
              "      <td>-5.123457e-01</td>\n",
              "      <td>-3.787143e-01</td>\n",
              "      <td>-5.437196e-01</td>\n",
              "      <td>-5.868924e-01</td>\n",
              "      <td>-5.470581e-01</td>\n",
              "      <td>-2.393427e-01</td>\n",
              "      <td>-3.576954e-01</td>\n",
              "      <td>-7.168960e-01</td>\n",
              "      <td>-5.566872e-01</td>\n",
              "      <td>-2.484947e-01</td>\n",
              "      <td>-4.722608e-01</td>\n",
              "      <td>-6.254472e-01</td>\n",
              "      <td>-3.772080e-01</td>\n",
              "    </tr>\n",
              "    <tr>\n",
              "      <th>50%</th>\n",
              "      <td>-7.046497e-02</td>\n",
              "      <td>-1.083847e-01</td>\n",
              "      <td>-4.556017e-02</td>\n",
              "      <td>1.722653e-01</td>\n",
              "      <td>-1.413189e-01</td>\n",
              "      <td>-2.574357e-02</td>\n",
              "      <td>1.516904e-01</td>\n",
              "      <td>-5.042341e-02</td>\n",
              "      <td>-7.031800e-02</td>\n",
              "      <td>1.378451e-01</td>\n",
              "      <td>-1.015703e-01</td>\n",
              "      <td>1.361380e-02</td>\n",
              "      <td>-1.278815e-03</td>\n",
              "      <td>-1.045301e-01</td>\n",
              "      <td>8.751400e-03</td>\n",
              "    </tr>\n",
              "    <tr>\n",
              "      <th>75%</th>\n",
              "      <td>4.317008e-01</td>\n",
              "      <td>4.542783e-01</td>\n",
              "      <td>4.223313e-01</td>\n",
              "      <td>5.380701e-01</td>\n",
              "      <td>3.486405e-01</td>\n",
              "      <td>5.381290e-01</td>\n",
              "      <td>6.811210e-01</td>\n",
              "      <td>1.021956e-01</td>\n",
              "      <td>2.283087e-01</td>\n",
              "      <td>7.140815e-01</td>\n",
              "      <td>4.404797e-01</td>\n",
              "      <td>3.265483e-01</td>\n",
              "      <td>4.415271e-01</td>\n",
              "      <td>4.821777e-01</td>\n",
              "      <td>3.573469e-01</td>\n",
              "    </tr>\n",
              "    <tr>\n",
              "      <th>max</th>\n",
              "      <td>8.405027e+00</td>\n",
              "      <td>1.094945e+01</td>\n",
              "      <td>1.401777e+01</td>\n",
              "      <td>1.369698e+01</td>\n",
              "      <td>1.981992e+01</td>\n",
              "      <td>9.138305e+00</td>\n",
              "      <td>6.436469e+00</td>\n",
              "      <td>2.426133e+01</td>\n",
              "      <td>2.407868e+01</td>\n",
              "      <td>7.190965e+00</td>\n",
              "      <td>1.170930e+01</td>\n",
              "      <td>1.833887e+01</td>\n",
              "      <td>1.346695e+01</td>\n",
              "      <td>9.795435e+00</td>\n",
              "      <td>1.984091e+01</td>\n",
              "    </tr>\n",
              "  </tbody>\n",
              "</table>\n",
              "</div>"
            ],
            "text/plain": [
              "                 0             1   ...            13            14\n",
              "count  9.474900e+04  9.474900e+04  ...  9.474900e+04  9.474900e+04\n",
              "mean   6.107170e-18 -1.435557e-17  ...  6.976683e-18  1.593172e-17\n",
              "std    1.000005e+00  1.000005e+00  ...  1.000005e+00  1.000005e+00\n",
              "min   -3.838734e+00 -1.594262e+00  ... -4.555207e+00 -1.191443e+01\n",
              "25%   -5.334309e-01 -6.557915e-01  ... -6.254472e-01 -3.772080e-01\n",
              "50%   -7.046497e-02 -1.083847e-01  ... -1.045301e-01  8.751400e-03\n",
              "75%    4.317008e-01  4.542783e-01  ...  4.821777e-01  3.573469e-01\n",
              "max    8.405027e+00  1.094945e+01  ...  9.795435e+00  1.984091e+01\n",
              "\n",
              "[8 rows x 15 columns]"
            ]
          },
          "metadata": {
            "tags": []
          },
          "execution_count": 87
        }
      ]
    },
    {
      "cell_type": "code",
      "metadata": {
        "id": "rMtLIGDP9p5C",
        "colab_type": "code",
        "outputId": "e40fb451-37e5-4e93-aee5-c7969d10a5fa",
        "colab": {
          "base_uri": "https://localhost:8080/",
          "height": 297
        }
      },
      "source": [
        "test_x.describe()"
      ],
      "execution_count": 0,
      "outputs": [
        {
          "output_type": "execute_result",
          "data": {
            "text/html": [
              "<div>\n",
              "<style scoped>\n",
              "    .dataframe tbody tr th:only-of-type {\n",
              "        vertical-align: middle;\n",
              "    }\n",
              "\n",
              "    .dataframe tbody tr th {\n",
              "        vertical-align: top;\n",
              "    }\n",
              "\n",
              "    .dataframe thead th {\n",
              "        text-align: right;\n",
              "    }\n",
              "</style>\n",
              "<table border=\"1\" class=\"dataframe\">\n",
              "  <thead>\n",
              "    <tr style=\"text-align: right;\">\n",
              "      <th></th>\n",
              "      <th>0</th>\n",
              "      <th>1</th>\n",
              "      <th>2</th>\n",
              "      <th>3</th>\n",
              "      <th>4</th>\n",
              "      <th>5</th>\n",
              "      <th>6</th>\n",
              "      <th>7</th>\n",
              "      <th>8</th>\n",
              "      <th>9</th>\n",
              "      <th>10</th>\n",
              "      <th>11</th>\n",
              "      <th>12</th>\n",
              "      <th>13</th>\n",
              "      <th>14</th>\n",
              "    </tr>\n",
              "  </thead>\n",
              "  <tbody>\n",
              "    <tr>\n",
              "      <th>count</th>\n",
              "      <td>11869.000000</td>\n",
              "      <td>11869.000000</td>\n",
              "      <td>11869.000000</td>\n",
              "      <td>11869.000000</td>\n",
              "      <td>11869.000000</td>\n",
              "      <td>11869.000000</td>\n",
              "      <td>11869.000000</td>\n",
              "      <td>11869.000000</td>\n",
              "      <td>11869.000000</td>\n",
              "      <td>11869.000000</td>\n",
              "      <td>11869.000000</td>\n",
              "      <td>11869.000000</td>\n",
              "      <td>11869.000000</td>\n",
              "      <td>11869.000000</td>\n",
              "      <td>11869.000000</td>\n",
              "    </tr>\n",
              "    <tr>\n",
              "      <th>mean</th>\n",
              "      <td>-0.168089</td>\n",
              "      <td>0.022882</td>\n",
              "      <td>-0.234795</td>\n",
              "      <td>-0.126036</td>\n",
              "      <td>0.072914</td>\n",
              "      <td>0.024575</td>\n",
              "      <td>-0.191120</td>\n",
              "      <td>-0.124819</td>\n",
              "      <td>-0.093786</td>\n",
              "      <td>0.050621</td>\n",
              "      <td>-0.225774</td>\n",
              "      <td>0.030790</td>\n",
              "      <td>0.036854</td>\n",
              "      <td>0.285133</td>\n",
              "      <td>-0.063050</td>\n",
              "    </tr>\n",
              "    <tr>\n",
              "      <th>std</th>\n",
              "      <td>0.798641</td>\n",
              "      <td>0.692169</td>\n",
              "      <td>0.667267</td>\n",
              "      <td>0.971529</td>\n",
              "      <td>0.827492</td>\n",
              "      <td>0.840822</td>\n",
              "      <td>0.915648</td>\n",
              "      <td>0.253069</td>\n",
              "      <td>0.518658</td>\n",
              "      <td>0.943389</td>\n",
              "      <td>0.590123</td>\n",
              "      <td>0.431781</td>\n",
              "      <td>0.806077</td>\n",
              "      <td>1.130014</td>\n",
              "      <td>0.682387</td>\n",
              "    </tr>\n",
              "    <tr>\n",
              "      <th>min</th>\n",
              "      <td>-3.213460</td>\n",
              "      <td>-1.458346</td>\n",
              "      <td>-3.627311</td>\n",
              "      <td>-7.971293</td>\n",
              "      <td>-2.041723</td>\n",
              "      <td>-5.092495</td>\n",
              "      <td>-3.661089</td>\n",
              "      <td>-1.942928</td>\n",
              "      <td>-6.949328</td>\n",
              "      <td>-3.670874</td>\n",
              "      <td>-2.851859</td>\n",
              "      <td>-1.523976</td>\n",
              "      <td>-5.922958</td>\n",
              "      <td>-2.950949</td>\n",
              "      <td>-5.087506</td>\n",
              "    </tr>\n",
              "    <tr>\n",
              "      <th>25%</th>\n",
              "      <td>-0.652386</td>\n",
              "      <td>-0.393446</td>\n",
              "      <td>-0.636785</td>\n",
              "      <td>-0.507743</td>\n",
              "      <td>-0.464948</td>\n",
              "      <td>-0.477972</td>\n",
              "      <td>-0.733524</td>\n",
              "      <td>-0.270942</td>\n",
              "      <td>-0.359868</td>\n",
              "      <td>-0.623108</td>\n",
              "      <td>-0.616604</td>\n",
              "      <td>-0.270162</td>\n",
              "      <td>-0.410045</td>\n",
              "      <td>-0.477443</td>\n",
              "      <td>-0.341030</td>\n",
              "    </tr>\n",
              "    <tr>\n",
              "      <th>50%</th>\n",
              "      <td>-0.176515</td>\n",
              "      <td>-0.011677</td>\n",
              "      <td>-0.250031</td>\n",
              "      <td>0.126880</td>\n",
              "      <td>-0.113471</td>\n",
              "      <td>0.083533</td>\n",
              "      <td>-0.095796</td>\n",
              "      <td>-0.096758</td>\n",
              "      <td>-0.080166</td>\n",
              "      <td>0.177671</td>\n",
              "      <td>-0.256259</td>\n",
              "      <td>-0.010171</td>\n",
              "      <td>0.053976</td>\n",
              "      <td>0.171894</td>\n",
              "      <td>-0.011163</td>\n",
              "    </tr>\n",
              "    <tr>\n",
              "      <th>75%</th>\n",
              "      <td>0.301233</td>\n",
              "      <td>0.389934</td>\n",
              "      <td>0.147644</td>\n",
              "      <td>0.514748</td>\n",
              "      <td>0.423998</td>\n",
              "      <td>0.570572</td>\n",
              "      <td>0.460192</td>\n",
              "      <td>0.052801</td>\n",
              "      <td>0.176802</td>\n",
              "      <td>0.772258</td>\n",
              "      <td>0.127339</td>\n",
              "      <td>0.325903</td>\n",
              "      <td>0.501310</td>\n",
              "      <td>0.895399</td>\n",
              "      <td>0.291434</td>\n",
              "    </tr>\n",
              "    <tr>\n",
              "      <th>max</th>\n",
              "      <td>4.245556</td>\n",
              "      <td>5.041759</td>\n",
              "      <td>5.857623</td>\n",
              "      <td>5.817264</td>\n",
              "      <td>9.710084</td>\n",
              "      <td>7.311160</td>\n",
              "      <td>2.587212</td>\n",
              "      <td>1.760378</td>\n",
              "      <td>7.321056</td>\n",
              "      <td>2.314282</td>\n",
              "      <td>4.260386</td>\n",
              "      <td>3.073719</td>\n",
              "      <td>4.711521</td>\n",
              "      <td>4.886580</td>\n",
              "      <td>10.940391</td>\n",
              "    </tr>\n",
              "  </tbody>\n",
              "</table>\n",
              "</div>"
            ],
            "text/plain": [
              "                 0             1   ...            13            14\n",
              "count  11869.000000  11869.000000  ...  11869.000000  11869.000000\n",
              "mean      -0.168089      0.022882  ...      0.285133     -0.063050\n",
              "std        0.798641      0.692169  ...      1.130014      0.682387\n",
              "min       -3.213460     -1.458346  ...     -2.950949     -5.087506\n",
              "25%       -0.652386     -0.393446  ...     -0.477443     -0.341030\n",
              "50%       -0.176515     -0.011677  ...      0.171894     -0.011163\n",
              "75%        0.301233      0.389934  ...      0.895399      0.291434\n",
              "max        4.245556      5.041759  ...      4.886580     10.940391\n",
              "\n",
              "[8 rows x 15 columns]"
            ]
          },
          "metadata": {
            "tags": []
          },
          "execution_count": 88
        }
      ]
    },
    {
      "cell_type": "code",
      "metadata": {
        "id": "hwUDI-4D9q9r",
        "colab_type": "code",
        "colab": {}
      },
      "source": [
        ""
      ],
      "execution_count": 0,
      "outputs": []
    }
  ]
}