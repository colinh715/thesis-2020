{
 "cells": [
  {
   "cell_type": "code",
   "execution_count": 136,
   "metadata": {},
   "outputs": [],
   "source": [
    "import numpy as np\n",
    "import pandas as pd\n",
    "import pickle\n",
    "import random\n",
    "from sklearn.neighbors import KNeighborsRegressor\n",
    "from sklearn.model_selection import train_test_split\n",
    "from sklearn.preprocessing import StandardScaler\n",
    "import matplotlib.pyplot as plt\n",
    "import matplotlib.image as mpimg\n",
    "%matplotlib inline\n",
    "\n"
   ]
  },
  {
   "cell_type": "markdown",
   "metadata": {},
   "source": [
    "## Load in the feature data "
   ]
  },
  {
   "cell_type": "code",
   "execution_count": 151,
   "metadata": {},
   "outputs": [],
   "source": [
    "# patient suffixes for file names\n",
    "mayo_suffs = ['001','002','003','004','005','006','007','008']\n",
    "sans_suffs = ['01','02','03','04','05','06','07','08','09','10']\n",
    "data_bypat = {} # holder for data seperated by patient\n",
    "\n",
    "# loading the data from the pickle files\n",
    "for s, suff in enumerate(sans_suffs):\n",
    "    filename = 'feature_data/sansum-%s.p' % suff\n",
    "    data_bypat['s%s' % (s+1)] = pickle.load(open(filename,'rb'))\n",
    "    data_bypat['s%s' % (s+1)] = data_bypat['s%s' % (s+1)].fillna(data_bypat['s%s' % (s+1)].mean())\n",
    "    \n",
    "for m, suff in enumerate(mayo_suffs):\n",
    "    filename = 'feature_data/mayo-%s.p' % suff\n",
    "    data_bypat['m%s' % (m+1)] = pickle.load(open(filename,'rb'))\n",
    "    data_bypat['m%s' % (m+1)] = data_bypat['m%s' % (m+1)].fillna(data_bypat['m%s' % (m+1)].mean())"
   ]
  },
  {
   "cell_type": "markdown",
   "metadata": {},
   "source": [
    "## Train population KNN model "
   ]
  },
  {
   "cell_type": "code",
   "execution_count": 152,
   "metadata": {},
   "outputs": [
    {
     "data": {
      "text/html": [
       "<div>\n",
       "<style scoped>\n",
       "    .dataframe tbody tr th:only-of-type {\n",
       "        vertical-align: middle;\n",
       "    }\n",
       "\n",
       "    .dataframe tbody tr th {\n",
       "        vertical-align: top;\n",
       "    }\n",
       "\n",
       "    .dataframe thead th {\n",
       "        text-align: right;\n",
       "    }\n",
       "</style>\n",
       "<table border=\"1\" class=\"dataframe\">\n",
       "  <thead>\n",
       "    <tr style=\"text-align: right;\">\n",
       "      <th></th>\n",
       "      <th>BG0</th>\n",
       "      <th>BG_PH</th>\n",
       "      <th>BGday_var</th>\n",
       "      <th>dBG30</th>\n",
       "      <th>dBG60</th>\n",
       "      <th>deda30</th>\n",
       "      <th>deda60</th>\n",
       "      <th>dtemp30</th>\n",
       "      <th>dtemp60</th>\n",
       "      <th>eda0</th>\n",
       "      <th>...</th>\n",
       "      <th>step0mean_2hr</th>\n",
       "      <th>step0mean_3hr</th>\n",
       "      <th>step0mean_4hr</th>\n",
       "      <th>step0mean_5hr</th>\n",
       "      <th>hr0adj_curr</th>\n",
       "      <th>hr0adj_mean_1hr</th>\n",
       "      <th>hr0adj_mean_2hr</th>\n",
       "      <th>hr0adj_mean_3hr</th>\n",
       "      <th>hr0adj_mean_4hr</th>\n",
       "      <th>hr0adj_mean_5hr</th>\n",
       "    </tr>\n",
       "  </thead>\n",
       "  <tbody>\n",
       "    <tr>\n",
       "      <th>count</th>\n",
       "      <td>5012.000000</td>\n",
       "      <td>5012.000000</td>\n",
       "      <td>5012.000000</td>\n",
       "      <td>5012.000000</td>\n",
       "      <td>5012.000000</td>\n",
       "      <td>5012.000000</td>\n",
       "      <td>5012.000000</td>\n",
       "      <td>5012.000000</td>\n",
       "      <td>5012.000000</td>\n",
       "      <td>5012.000000</td>\n",
       "      <td>...</td>\n",
       "      <td>5012.000000</td>\n",
       "      <td>5012.000000</td>\n",
       "      <td>5012.000000</td>\n",
       "      <td>5012.000000</td>\n",
       "      <td>5012.000000</td>\n",
       "      <td>5012.000000</td>\n",
       "      <td>5012.000000</td>\n",
       "      <td>5012.000000</td>\n",
       "      <td>5012.000000</td>\n",
       "      <td>5012.000000</td>\n",
       "    </tr>\n",
       "    <tr>\n",
       "      <th>mean</th>\n",
       "      <td>168.975459</td>\n",
       "      <td>168.136273</td>\n",
       "      <td>4144.643203</td>\n",
       "      <td>29.359737</td>\n",
       "      <td>29.359737</td>\n",
       "      <td>0.728818</td>\n",
       "      <td>0.728818</td>\n",
       "      <td>1.428518</td>\n",
       "      <td>1.428518</td>\n",
       "      <td>0.663621</td>\n",
       "      <td>...</td>\n",
       "      <td>2.355501</td>\n",
       "      <td>2.365646</td>\n",
       "      <td>2.313002</td>\n",
       "      <td>2.272165</td>\n",
       "      <td>1.090646</td>\n",
       "      <td>1.081850</td>\n",
       "      <td>1.071915</td>\n",
       "      <td>1.068315</td>\n",
       "      <td>1.074424</td>\n",
       "      <td>1.079914</td>\n",
       "    </tr>\n",
       "    <tr>\n",
       "      <th>std</th>\n",
       "      <td>68.674981</td>\n",
       "      <td>67.501925</td>\n",
       "      <td>1806.688218</td>\n",
       "      <td>41.287753</td>\n",
       "      <td>41.287753</td>\n",
       "      <td>2.718852</td>\n",
       "      <td>2.718852</td>\n",
       "      <td>2.693323</td>\n",
       "      <td>2.693323</td>\n",
       "      <td>2.284345</td>\n",
       "      <td>...</td>\n",
       "      <td>1.567256</td>\n",
       "      <td>1.556282</td>\n",
       "      <td>1.532710</td>\n",
       "      <td>1.507409</td>\n",
       "      <td>0.328553</td>\n",
       "      <td>0.295947</td>\n",
       "      <td>0.282024</td>\n",
       "      <td>0.274885</td>\n",
       "      <td>0.277110</td>\n",
       "      <td>0.272830</td>\n",
       "    </tr>\n",
       "    <tr>\n",
       "      <th>min</th>\n",
       "      <td>41.000000</td>\n",
       "      <td>41.000000</td>\n",
       "      <td>914.188695</td>\n",
       "      <td>0.000000</td>\n",
       "      <td>0.000000</td>\n",
       "      <td>0.000000</td>\n",
       "      <td>0.000000</td>\n",
       "      <td>0.000000</td>\n",
       "      <td>0.000000</td>\n",
       "      <td>0.024203</td>\n",
       "      <td>...</td>\n",
       "      <td>0.006772</td>\n",
       "      <td>0.006766</td>\n",
       "      <td>0.006766</td>\n",
       "      <td>0.006766</td>\n",
       "      <td>0.367577</td>\n",
       "      <td>0.346920</td>\n",
       "      <td>0.289476</td>\n",
       "      <td>0.292329</td>\n",
       "      <td>0.288533</td>\n",
       "      <td>0.321500</td>\n",
       "    </tr>\n",
       "    <tr>\n",
       "      <th>25%</th>\n",
       "      <td>115.000000</td>\n",
       "      <td>115.000000</td>\n",
       "      <td>2820.617412</td>\n",
       "      <td>0.000000</td>\n",
       "      <td>0.000000</td>\n",
       "      <td>0.000362</td>\n",
       "      <td>0.000362</td>\n",
       "      <td>0.102608</td>\n",
       "      <td>0.102608</td>\n",
       "      <td>0.076550</td>\n",
       "      <td>...</td>\n",
       "      <td>1.353368</td>\n",
       "      <td>1.448789</td>\n",
       "      <td>1.462878</td>\n",
       "      <td>1.484039</td>\n",
       "      <td>0.909362</td>\n",
       "      <td>0.926392</td>\n",
       "      <td>0.926827</td>\n",
       "      <td>0.935522</td>\n",
       "      <td>0.948014</td>\n",
       "      <td>0.955167</td>\n",
       "    </tr>\n",
       "    <tr>\n",
       "      <th>50%</th>\n",
       "      <td>159.000000</td>\n",
       "      <td>158.000000</td>\n",
       "      <td>4225.652181</td>\n",
       "      <td>13.000000</td>\n",
       "      <td>13.000000</td>\n",
       "      <td>0.078634</td>\n",
       "      <td>0.078634</td>\n",
       "      <td>0.615567</td>\n",
       "      <td>0.615567</td>\n",
       "      <td>0.181563</td>\n",
       "      <td>...</td>\n",
       "      <td>2.355501</td>\n",
       "      <td>2.365646</td>\n",
       "      <td>2.313002</td>\n",
       "      <td>2.272165</td>\n",
       "      <td>1.025945</td>\n",
       "      <td>1.032746</td>\n",
       "      <td>1.042131</td>\n",
       "      <td>1.055864</td>\n",
       "      <td>1.074424</td>\n",
       "      <td>1.079914</td>\n",
       "    </tr>\n",
       "    <tr>\n",
       "      <th>75%</th>\n",
       "      <td>216.000000</td>\n",
       "      <td>215.000000</td>\n",
       "      <td>5065.793871</td>\n",
       "      <td>41.000000</td>\n",
       "      <td>41.000000</td>\n",
       "      <td>0.594006</td>\n",
       "      <td>0.594006</td>\n",
       "      <td>1.452875</td>\n",
       "      <td>1.452875</td>\n",
       "      <td>0.407841</td>\n",
       "      <td>...</td>\n",
       "      <td>3.224366</td>\n",
       "      <td>3.103211</td>\n",
       "      <td>2.954139</td>\n",
       "      <td>2.791104</td>\n",
       "      <td>1.188396</td>\n",
       "      <td>1.155733</td>\n",
       "      <td>1.129262</td>\n",
       "      <td>1.110600</td>\n",
       "      <td>1.104015</td>\n",
       "      <td>1.101362</td>\n",
       "    </tr>\n",
       "    <tr>\n",
       "      <th>max</th>\n",
       "      <td>400.000000</td>\n",
       "      <td>400.000000</td>\n",
       "      <td>10225.061112</td>\n",
       "      <td>346.000000</td>\n",
       "      <td>346.000000</td>\n",
       "      <td>47.825802</td>\n",
       "      <td>47.825802</td>\n",
       "      <td>16.714900</td>\n",
       "      <td>16.714900</td>\n",
       "      <td>50.569796</td>\n",
       "      <td>...</td>\n",
       "      <td>11.464080</td>\n",
       "      <td>11.464080</td>\n",
       "      <td>11.464080</td>\n",
       "      <td>11.464080</td>\n",
       "      <td>2.719229</td>\n",
       "      <td>2.130433</td>\n",
       "      <td>2.235237</td>\n",
       "      <td>2.290072</td>\n",
       "      <td>2.306412</td>\n",
       "      <td>2.294515</td>\n",
       "    </tr>\n",
       "  </tbody>\n",
       "</table>\n",
       "<p>8 rows × 27 columns</p>\n",
       "</div>"
      ],
      "text/plain": [
       "               BG0        BG_PH     BGday_var        dBG30        dBG60  \\\n",
       "count  5012.000000  5012.000000   5012.000000  5012.000000  5012.000000   \n",
       "mean    168.975459   168.136273   4144.643203    29.359737    29.359737   \n",
       "std      68.674981    67.501925   1806.688218    41.287753    41.287753   \n",
       "min      41.000000    41.000000    914.188695     0.000000     0.000000   \n",
       "25%     115.000000   115.000000   2820.617412     0.000000     0.000000   \n",
       "50%     159.000000   158.000000   4225.652181    13.000000    13.000000   \n",
       "75%     216.000000   215.000000   5065.793871    41.000000    41.000000   \n",
       "max     400.000000   400.000000  10225.061112   346.000000   346.000000   \n",
       "\n",
       "            deda30       deda60      dtemp30      dtemp60         eda0  ...  \\\n",
       "count  5012.000000  5012.000000  5012.000000  5012.000000  5012.000000  ...   \n",
       "mean      0.728818     0.728818     1.428518     1.428518     0.663621  ...   \n",
       "std       2.718852     2.718852     2.693323     2.693323     2.284345  ...   \n",
       "min       0.000000     0.000000     0.000000     0.000000     0.024203  ...   \n",
       "25%       0.000362     0.000362     0.102608     0.102608     0.076550  ...   \n",
       "50%       0.078634     0.078634     0.615567     0.615567     0.181563  ...   \n",
       "75%       0.594006     0.594006     1.452875     1.452875     0.407841  ...   \n",
       "max      47.825802    47.825802    16.714900    16.714900    50.569796  ...   \n",
       "\n",
       "       step0mean_2hr  step0mean_3hr  step0mean_4hr  step0mean_5hr  \\\n",
       "count    5012.000000    5012.000000    5012.000000    5012.000000   \n",
       "mean        2.355501       2.365646       2.313002       2.272165   \n",
       "std         1.567256       1.556282       1.532710       1.507409   \n",
       "min         0.006772       0.006766       0.006766       0.006766   \n",
       "25%         1.353368       1.448789       1.462878       1.484039   \n",
       "50%         2.355501       2.365646       2.313002       2.272165   \n",
       "75%         3.224366       3.103211       2.954139       2.791104   \n",
       "max        11.464080      11.464080      11.464080      11.464080   \n",
       "\n",
       "       hr0adj_curr  hr0adj_mean_1hr  hr0adj_mean_2hr  hr0adj_mean_3hr  \\\n",
       "count  5012.000000      5012.000000      5012.000000      5012.000000   \n",
       "mean      1.090646         1.081850         1.071915         1.068315   \n",
       "std       0.328553         0.295947         0.282024         0.274885   \n",
       "min       0.367577         0.346920         0.289476         0.292329   \n",
       "25%       0.909362         0.926392         0.926827         0.935522   \n",
       "50%       1.025945         1.032746         1.042131         1.055864   \n",
       "75%       1.188396         1.155733         1.129262         1.110600   \n",
       "max       2.719229         2.130433         2.235237         2.290072   \n",
       "\n",
       "       hr0adj_mean_4hr  hr0adj_mean_5hr  \n",
       "count      5012.000000      5012.000000  \n",
       "mean          1.074424         1.079914  \n",
       "std           0.277110         0.272830  \n",
       "min           0.288533         0.321500  \n",
       "25%           0.948014         0.955167  \n",
       "50%           1.074424         1.079914  \n",
       "75%           1.104015         1.101362  \n",
       "max           2.306412         2.294515  \n",
       "\n",
       "[8 rows x 27 columns]"
      ]
     },
     "execution_count": 152,
     "metadata": {},
     "output_type": "execute_result"
    }
   ],
   "source": [
    "data_bypat['m4'].describe()"
   ]
  },
  {
   "cell_type": "code",
   "execution_count": 6,
   "metadata": {},
   "outputs": [],
   "source": [
    "# Generate 9 folds with random pairs of patients for cross validation\n",
    "def get_folds(data):\n",
    "    keynames = list(data.keys()) # get the key names that represent individual patients\n",
    "    random.shuffle(keynames) # shuffle them into a random order\n",
    "    folds = np.reshape(keynames, [9,2]) # pair them off into 9 folds\n",
    "    return folds"
   ]
  },
  {
   "cell_type": "code",
   "execution_count": 124,
   "metadata": {},
   "outputs": [],
   "source": [
    "## intakes training and test predictors, then scales them all down to be 0 mean and 1 variance (according to what is observed in training set)\n",
    "\n",
    "def scale_data(xtrain,xtest):\n",
    "    scaler = StandardScaler() # generate scaler\n",
    "    xtrain.loc[:,:] = scaler.fit_transform(xtrain) # fit and transform on training\n",
    "    xtest.loc[:,:] = scaler.transform(xtest) # naively transform test data without fitting to it\n",
    "    return xtrain, xtest, scaler"
   ]
  },
  {
   "cell_type": "code",
   "execution_count": 122,
   "metadata": {},
   "outputs": [],
   "source": [
    "### takes in the by patient data and the folds by which to seperate, outputs training features/labels and testing features/labels for the current fold being tested \n",
    "def get_train_test(data,folds,current_fold):\n",
    "    ## get the test data\n",
    "    \n",
    "    # extract patients in current fold for testing\n",
    "    test_data1 = data[folds[current_fold,0]]\n",
    "    test_data2 = data[folds[current_fold,1]]\n",
    "    # combine into one testing df\n",
    "    test_data = pd.concat([test_data1,test_data2],ignore_index=True)\n",
    "    # split into predictors and labels\n",
    "    test_y = test_data['BG_PH']\n",
    "    test_x = test_data.drop(columns=['BG_PH'])\n",
    "    \n",
    "    \n",
    "    ## extract patients not in current fold for training\n",
    "    \n",
    "    # drop the testing fold and flatten the patient array for iteration\n",
    "    train_pats = np.delete(folds,current_fold,axis=0).flatten()\n",
    "    train_data = pd.DataFrame() # holder df for training data\n",
    "    # combine into one training df\n",
    "    for pat in train_pats:\n",
    "        train_data = pd.concat([train_data,data[pat]], ignore_index=True)\n",
    "    train_y = train_data['BG_PH']\n",
    "    train_x = train_data.drop(columns=['BG_PH'])\n",
    "    \n",
    "    train_x, test_x, scaler = scale_data(train_x,test_x)\n",
    "    \n",
    "    return test_y, test_x, train_y, train_x, scaler"
   ]
  },
  {
   "cell_type": "code",
   "execution_count": 9,
   "metadata": {},
   "outputs": [],
   "source": [
    "def get_RMSE(actual,predicted):\n",
    "    return np.sqrt(np.mean((actual-predicted)**2))"
   ]
  },
  {
   "cell_type": "code",
   "execution_count": 140,
   "metadata": {},
   "outputs": [],
   "source": [
    "# this code is partially adapted from code I wrote for cs109a pset 2\n",
    "# currently just keeps last trained model for each k, should retrain if implemented for live data\n",
    "\n",
    "def test_ks(data,folds,k_vals):\n",
    "    # k_vals = [10, 50, 100, 500, 1000, 5000] # potential relevant numbers of neighbors to test\n",
    "\n",
    "    # keep the trained regressors in a dict for access later\n",
    "    KNN_models = {}\n",
    "    # average RMSE values for each k, used for model selection\n",
    "    k_RMSEs = {}\n",
    "    for k in k_vals:\n",
    "        print('k = ',k)\n",
    "        f_RMSEs = np.zeros((len(folds),1)) # RMSE for each testing fold, averaged during cross validation\n",
    "        for f in range(len(folds)):\n",
    "            test_y, test_x, train_y, train_x, scaler = get_train_test(data,folds,f)\n",
    "            model = KNeighborsRegressor(n_neighbors=k)\n",
    "            KNN_models[k] = model.fit(train_x,train_y)\n",
    "            pred_y = KNN_models[k].predict(test_x)\n",
    "            f_RMSEs[f] = get_RMSE(test_y,pred_y)\n",
    "\n",
    "        k_RMSEs[k] = np.mean(f_RMSEs) \n",
    "    \n",
    "    return KNN_models, k_RMSEs"
   ]
  },
  {
   "cell_type": "code",
   "execution_count": null,
   "metadata": {},
   "outputs": [
    {
     "name": "stdout",
     "output_type": "stream",
     "text": [
      "k =  10\n"
     ]
    }
   ],
   "source": [
    "k_vals = [10, 50, 100, 500] # potential relevant numbers of neighbors to test\n",
    "folds = get_folds(data_bypat)\n",
    "models, RMSEs = test_ks(data_bypat,folds,k_vals)\n",
    "print(RMSEs)"
   ]
  },
  {
   "cell_type": "code",
   "execution_count": 113,
   "metadata": {},
   "outputs": [],
   "source": [
    "def CEG_analysis(measured,predicted):\n",
    "    \n",
    "    ## determine which points fall in each region\n",
    "    \n",
    "    a_measured = measured.loc[(abs(measured-predicted)<=.2*measured) | ((measured<=70)&(predicted<=70))]\n",
    "    a_predicted = predicted.loc[(abs(measured-predicted)<=.2*measured) | ((measured<=70)&(predicted<=70))]\n",
    "    \n",
    "    e_measured = measured.loc[((measured<=70)&(predicted>180)) | ((measured>180)&(predicted<=70))]\n",
    "    e_predicted = predicted.loc[((measured<=70)&(predicted>180)) | ((measured>180)&(predicted<=70))]\n",
    "    \n",
    "    # make sure to exclude a conditions\n",
    "    d_measured = measured.loc[(((predicted>70)&(predicted<=180)) & ((measured<=70)|(measured>240))) & ~(abs(measured-predicted)<=.2*measured)]\n",
    "    d_predicted = predicted.loc[(((predicted>70)&(predicted<=180)) & ((measured<=70)|(measured>240))) & ~(abs(measured-predicted)<=.2*measured)]\n",
    "    \n",
    "    c_measured = measured.loc[(((predicted<=70)&(measured<=180))&(predicted<7/5*(measured-130))) | (((predicted>180)&(measured<predicted-110))&(measured>70))]\n",
    "    c_predicted = predicted.loc[(((predicted<=70)&(measured<=180))&(predicted<7/5*(measured-130))) | (((predicted>180)&(measured<predicted-110))&(measured>70))]\n",
    "    \n",
    "    not_b_inds_measured = np.concatenate([a_measured.index.values,c_measured.index.values,d_measured.index.values,e_measured.index.values])\n",
    "    not_b_inds_predicted = np.concatenate([a_predicted.index.values,c_predicted.index.values,d_predicted.index.values,e_predicted.index.values])\n",
    "    print(np.shape(not_b_inds_measured))\n",
    "    print(type(not_b_inds_measured))\n",
    "    print(type(a_measured.index.values))\n",
    "    print(a_measured.index.values)\n",
    "    b_measured = measured.drop(index=not_b_inds_measured)\n",
    "    b_predicted = predicted.drop(index=not_b_inds_predicted)\n",
    "\n",
    "    \n",
    "    ## get the percent in each region\n",
    "    \n",
    "    a_per = 100*len(a_measured)/len(measured)\n",
    "    b_per = 100*len(b_measured)/len(measured)\n",
    "    c_per = 100*len(c_measured)/len(measured)\n",
    "    d_per = 100*len(d_measured)/len(measured)\n",
    "    e_per = 100*len(e_measured)/len(measured)\n",
    "    \n",
    "    \n",
    "    ## do the plotting\n",
    "    \n",
    "    ceg = mpimg.imread('images/CEG400_clean.jpg')\n",
    "    \n",
    "    plt.imshow(ceg,extent=[0,400,0,400])\n",
    "    plt.scatter(e_measured,e_predicted,c='#c90d00')\n",
    "    plt.scatter(d_measured,d_predicted,c='#ff4c40')\n",
    "    plt.scatter(c_measured,c_predicted,c='#ff8880')\n",
    "    plt.scatter(b_measured,b_predicted,c='#93ff82')\n",
    "    plt.scatter(a_measured,a_predicted,c='#28c410')\n",
    "    \n",
    "    \n",
    "    \n",
    "    \n",
    "    \n",
    "    plt.title('CEG Analysis')\n",
    "    plt.xlabel('Measured BG (mg/dL)')\n",
    "    plt.ylabel('Predicted BG (mg/dL)')\n",
    "    plt.xlim([0,400])\n",
    "    plt.ylim([0,400])\n",
    "    plt.legend(['E','D','C','B','A'])\n",
    "    \n",
    "    return [a_per,b_per,c_per,d_per,e_per]"
   ]
  },
  {
   "cell_type": "code",
   "execution_count": 125,
   "metadata": {},
   "outputs": [],
   "source": [
    "test_y, test_x, train_y, train_x, scaler = get_train_test(data_bypat,folds,8)"
   ]
  },
  {
   "cell_type": "code",
   "execution_count": 99,
   "metadata": {},
   "outputs": [],
   "source": [
    "model_forCEG = models[50]"
   ]
  },
  {
   "cell_type": "code",
   "execution_count": 100,
   "metadata": {},
   "outputs": [],
   "source": [
    "pred_y = test_y.copy()\n",
    "pred_y[:] = model_forCEG.predict(test_x)"
   ]
  },
  {
   "cell_type": "code",
   "execution_count": 114,
   "metadata": {},
   "outputs": [
    {
     "name": "stdout",
     "output_type": "stream",
     "text": [
      "(11816,)\n",
      "<class 'numpy.ndarray'>\n",
      "<class 'numpy.ndarray'>\n",
      "[    0     1     2 ... 14270 14271 14272]\n"
     ]
    },
    {
     "data": {
      "image/png": "[encoded data removed]",
      "text/plain": [
       "<Figure size 432x288 with 1 Axes>"
      ]
     },
     "metadata": {
      "needs_background": "light"
     },
     "output_type": "display_data"
    }
   ],
   "source": [
    "percents = CEG_analysis(test_y,pred_y)"
   ]
  },
  {
   "cell_type": "code",
   "execution_count": 111,
   "metadata": {},
   "outputs": [
    {
     "data": {
      "text/plain": [
       "[76.2905372277089,\n",
       " 17.23751488407929,\n",
       " 0.04202563563773902,\n",
       " 6.4299222525740705,\n",
       " 0.0]"
      ]
     },
     "execution_count": 111,
     "metadata": {},
     "output_type": "execute_result"
    }
   ],
   "source": [
    "percents"
   ]
  },
  {
   "cell_type": "code",
   "execution_count": 112,
   "metadata": {},
   "outputs": [
    {
     "name": "stdout",
     "output_type": "stream",
     "text": [
      "93.52805211178818 % of predictions in safe regions A and B\n"
     ]
    }
   ],
   "source": [
    "print(percents[0]+percents[1],'% of predictions in safe regions A and B')"
   ]
  },
  {
   "cell_type": "code",
   "execution_count": 90,
   "metadata": {},
   "outputs": [
    {
     "data": {
      "text/plain": [
       "100.0"
      ]
     },
     "execution_count": 90,
     "metadata": {},
     "output_type": "execute_result"
    }
   ],
   "source": [
    "np.sum(percents)"
   ]
  },
  {
   "cell_type": "code",
   "execution_count": 134,
   "metadata": {},
   "outputs": [],
   "source": [
    "y_t0 = train_x.copy()\n",
    "y_t0.loc[:,:] = scaler.inverse_transform(train_x)\n",
    "y_t0 = y_t0['BG0']"
   ]
  },
  {
   "cell_type": "code",
   "execution_count": 135,
   "metadata": {},
   "outputs": [
    {
     "data": {
      "text/plain": [
       "25.25287516148635"
      ]
     },
     "execution_count": 135,
     "metadata": {},
     "output_type": "execute_result"
    }
   ],
   "source": [
    "get_RMSE(train_y,y_t0)"
   ]
  },
  {
   "cell_type": "code",
   "execution_count": null,
   "metadata": {},
   "outputs": [],
   "source": []
  },
  {
   "cell_type": "code",
   "execution_count": 146,
   "metadata": {},
   "outputs": [
    {
     "data": {
      "text/plain": [
       "<matplotlib.legend.Legend at 0x2ca1fce18d0>"
      ]
     },
     "execution_count": 146,
     "metadata": {},
     "output_type": "execute_result"
    },
    {
     "data": {
      "image/png": "[encoded data removed]",
      "text/plain": [
       "<Figure size 864x864 with 1 Axes>"
      ]
     },
     "metadata": {
      "needs_background": "light"
     },
     "output_type": "display_data"
    }
   ],
   "source": [
    "plt.figure(figsize=[12,12])\n",
    "plt.plot([27.754, 26.553, 26.702, 28.179, 29.281, 34.1780], 'r', lw=2, alpha=.5)\n",
    "plt.plot([25.54 for _ in range(6)], '--', lw=2, alpha=.5)\n",
    "plt.xticks([0,1,2,3,4,5], [10,50,100,500,1000,5000])\n",
    "plt.xlabel('k value')\n",
    "plt.ylabel('RMSE')\n",
    "plt.title('KNN model RMSE vs k')\n",
    "plt.legend(['KNN', 'Baseline'])\n"
   ]
  },
  {
   "cell_type": "code",
   "execution_count": null,
   "metadata": {},
   "outputs": [],
   "source": []
  }
 ],
 "metadata": {
  "kernelspec": {
   "display_name": "Python 3",
   "language": "python",
   "name": "python3"
  },
  "language_info": {
   "codemirror_mode": {
    "name": "ipython",
    "version": 3
   },
   "file_extension": ".py",
   "mimetype": "text/x-python",
   "name": "python",
   "nbconvert_exporter": "python",
   "pygments_lexer": "ipython3",
   "version": "3.7.3"
  }
 },
 "nbformat": 4,
 "nbformat_minor": 4
}
