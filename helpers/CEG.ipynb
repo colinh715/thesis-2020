{
 "cells": [
  {
   "cell_type": "markdown",
   "metadata": {},
   "source": [
    "## This function should take in measured and predicted data and output clarke error grid zone percentages as well as a CEG plot"
   ]
  },
  {
   "cell_type": "code",
   "execution_count": null,
   "metadata": {},
   "outputs": [],
   "source": [
    "def CEG_analysis(measured,predicted):\n",
    "    \n",
    "    ## determine which points fall in each region\n",
    "    \n",
    "    a_measured = measured.loc[(abs(measured-predicted)<=.2*measured) | ((measured<=70)&(predicted<=70))]\n",
    "    a_predicted = predicted.loc[(abs(measured-predicted)<=.2*measured) | ((measured<=70)&(predicted<=70))]\n",
    "    \n",
    "    e_measured = measured.loc[((measured>70)&(predicted<=180)) | ((measured>180)&(predicted<=70))]\n",
    "    e_predicted = predicted.loc[((measured>70)&(predicted<=180)) | ((measured>180)&(predicted<=70))]\n",
    "    \n",
    "    # make sure to exclude a conditions\n",
    "    d_measured = measured.loc[(((predicted>70)&(predicted<=80)) & ((measured<=70)|(measured>180))) & ~(abs(measured-predicted)<=.2*measured)]\n",
    "    d_predicted = predicted.loc[(((predicted>70)&(predicted<=80)) & ((measured<=70)|(measured>180))) & ~(abs(measured-predicted)<=.2*measured)]\n",
    "    \n",
    "    c_measured = measured.loc[(((predicted<=70)&(measured<=180))&(predicted<7/5*(measured-130))) | (((predicted>180)&(measured<predicted-100))&(measured>70))]\n",
    "    c_predicted = predicted.loc[(((predicted<=70)&(measured<=180))&(predicted<7/5*(measured-130))) | (((predicted>180)&(measured<predicted-100))&(measured>70))]\n",
    "    \n",
    "    not_b_inds_measured = [a_measured.index.values,c_measured.index.values,d_measured.index.values,e_measured.index.values]\n",
    "    not_b_inds_predicted = [a_predicted.index.values,c_predicted.index.values,d_predicted.index.values,e_predicted.index.values]\n",
    "    \n",
    "    b_measured = measured.drop(index=not_b_inds_measured)\n",
    "    b_predicted = predicted.drop(index=not_b_inds_predicted)\n",
    "\n",
    "    \n",
    "    ## get the percent in each region\n",
    "    \n",
    "    a_per = len(a_measured)/len(measured)\n",
    "    b_per = len(b_measured)/len(measured)\n",
    "    c_per = len(c_measured)/len(measured)\n",
    "    d_per = len(d_measured)/len(measured)\n",
    "    e_per = len(e_measured)/len(measured)\n",
    "    \n",
    "    \n",
    "    ## do the plotting\n",
    "    \n",
    "    ceg = mpimg.imread('images/CEG400_clean.jpg')\n",
    "    \n",
    "    plt.imshow(ceg,extent=[0,400,0,400])\n",
    "    plt.scatter(a_measured,a_predicted,c='#28c410')\n",
    "    plt.scatter(b_measured,b_predicted,c='#93ff82')\n",
    "    plt.scatter(c_measured,c_predicted,c='#ff8880')\n",
    "    plt.scatter(d_measured,c_predicted,c='#ff4c40')\n",
    "    plt.scatter(e_measured,e_predicted,c='#c90d00')\n",
    "    \n",
    "    plt.title('CEG Analysis')\n",
    "    plt.xlabel('Measured BG (mg/dL)')\n",
    "    plt.ylabel('Predicted BG (mg/dL)')\n",
    "    plt.xlim([0,400])\n",
    "    plt.ylim([0,400])\n",
    "    plt.legend(['A','B','C','D','E'])\n",
    "    \n",
    "    return a_per,b_per,c_per,d_per,e_per"
   ]
  }
 ],
 "metadata": {
  "kernelspec": {
   "display_name": "Python 3",
   "language": "python",
   "name": "python3"
  },
  "language_info": {
   "codemirror_mode": {
    "name": "ipython",
    "version": 3
   },
   "file_extension": ".py",
   "mimetype": "text/x-python",
   "name": "python",
   "nbconvert_exporter": "python",
   "pygments_lexer": "ipython3",
   "version": "3.7.3"
  }
 },
 "nbformat": 4,
 "nbformat_minor": 4
}
